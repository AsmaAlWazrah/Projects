{
 "cells": [
  {
   "cell_type": "code",
   "execution_count": 68,
   "metadata": {},
   "outputs": [],
   "source": [
    "# -*- coding: utf-8 -*-\n",
    "#-------------------------------------------------------------------------------\n",
    "\n",
    "import itertools\n",
    "import pandas as pd\n",
    "import numpy as np\n",
    "%matplotlib inline\n",
    "import matplotlib.pyplot as plt\n",
    "import libarchive\n",
    "import pydot\n",
    "import cartopy\n",
    "import re\n",
    "import sys\n",
    "import codecs\n",
    "import nltk\n",
    "from nltk.tokenize import word_tokenize\n",
    "from nltk.corpus import stopwords\n",
    "from nltk.stem.isri import ISRIStemmer\n",
    "#from nltk.stem.arlstem import ARLSTem\n",
    "import gensim\n",
    "from gensim.models.word2vec import Word2Vec\n",
    "\n",
    "\n",
    "import keras\n",
    "from keras import layers\n",
    "from keras import optimizers\n",
    "\n",
    "from keras.preprocessing.sequence import pad_sequences\n",
    "from keras.preprocessing.text import Tokenizer\n",
    "from keras.preprocessing.text import text_to_word_sequence\n",
    "from keras.utils import to_categorical\n",
    "\n",
    "import keras_metrics\n"
   ]
  },
  {
   "cell_type": "code",
   "execution_count": 69,
   "metadata": {
    "scrolled": true
   },
   "outputs": [
    {
     "name": "stdout",
     "output_type": "stream",
     "text": [
      "(56674, 2)\n"
     ]
    },
    {
     "data": {
      "text/html": [
       "<div>\n",
       "<style scoped>\n",
       "    .dataframe tbody tr th:only-of-type {\n",
       "        vertical-align: middle;\n",
       "    }\n",
       "\n",
       "    .dataframe tbody tr th {\n",
       "        vertical-align: top;\n",
       "    }\n",
       "\n",
       "    .dataframe thead th {\n",
       "        text-align: right;\n",
       "    }\n",
       "</style>\n",
       "<table border=\"1\" class=\"dataframe\">\n",
       "  <thead>\n",
       "    <tr style=\"text-align: right;\">\n",
       "      <th></th>\n",
       "      <th>Tweet</th>\n",
       "      <th>Polarity</th>\n",
       "    </tr>\n",
       "  </thead>\n",
       "  <tbody>\n",
       "    <tr>\n",
       "      <th>0</th>\n",
       "      <td>قبل ان يتحلطم عبيد الدنيا بسبب رفع_الدعم لابد...</td>\n",
       "      <td>pos</td>\n",
       "    </tr>\n",
       "    <tr>\n",
       "      <th>1</th>\n",
       "      <td>اكثر الساخطين على قرار رفع_اسعار_البنزين_والك...</td>\n",
       "      <td>neg</td>\n",
       "    </tr>\n",
       "    <tr>\n",
       "      <th>2</th>\n",
       "      <td>وبعد فتره من تطبيق رسوم_الاراضي_البيضاا سوف ي...</td>\n",
       "      <td>neut</td>\n",
       "    </tr>\n",
       "    <tr>\n",
       "      <th>3</th>\n",
       "      <td>اذاخسر تعادل الهلال حطوا بيضه فوق راسي وتجيكم ...</td>\n",
       "      <td>neut</td>\n",
       "    </tr>\n",
       "    <tr>\n",
       "      <th>4</th>\n",
       "      <td>اخطاا كثيره اليوم من لاعبي الهلال بالاخص سلمان...</td>\n",
       "      <td>neg</td>\n",
       "    </tr>\n",
       "  </tbody>\n",
       "</table>\n",
       "</div>"
      ],
      "text/plain": [
       "                                               Tweet Polarity\n",
       "0   قبل ان يتحلطم عبيد الدنيا بسبب رفع_الدعم لابد...      pos\n",
       "1   اكثر الساخطين على قرار رفع_اسعار_البنزين_والك...      neg\n",
       "2   وبعد فتره من تطبيق رسوم_الاراضي_البيضاا سوف ي...     neut\n",
       "3  اذاخسر تعادل الهلال حطوا بيضه فوق راسي وتجيكم ...     neut\n",
       "4  اخطاا كثيره اليوم من لاعبي الهلال بالاخص سلمان...      neg"
      ]
     },
     "execution_count": 69,
     "metadata": {},
     "output_type": "execute_result"
    }
   ],
   "source": [
    "data = pd.read_csv('../Desktop/a.csv')\n",
    "data = data.sample(frac=1).reset_index(drop=True)\n",
    "print(data.shape)\n",
    "data.head()\n",
    "\n"
   ]
  },
  {
   "cell_type": "code",
   "execution_count": 70,
   "metadata": {},
   "outputs": [
    {
     "data": {
      "text/plain": [
       "<matplotlib.axes._subplots.AxesSubplot at 0x1453f47e588>"
      ]
     },
     "execution_count": 70,
     "metadata": {},
     "output_type": "execute_result"
    },
    {
     "data": {
      "image/png": "[encoded data removed]",
      "text/plain": [
       "<Figure size 432x288 with 1 Axes>"
      ]
     },
     "metadata": {
      "needs_background": "light"
     },
     "output_type": "display_data"
    }
   ],
   "source": [
    "data['Polarity'].value_counts().sort_index().plot.bar()"
   ]
  },
  {
   "cell_type": "code",
   "execution_count": 71,
   "metadata": {},
   "outputs": [
    {
     "data": {
      "text/plain": [
       "<matplotlib.axes._subplots.AxesSubplot at 0x1452fccff28>"
      ]
     },
     "execution_count": 71,
     "metadata": {},
     "output_type": "execute_result"
    },
    {
     "data": {
      "image/png": "[encoded data removed]",
      "text/plain": [
       "<Figure size 432x288 with 1 Axes>"
      ]
     },
     "metadata": {
      "needs_background": "light"
     },
     "output_type": "display_data"
    }
   ],
   "source": [
    "data['Tweet'].str.len().plot.hist()"
   ]
  },
  {
   "cell_type": "code",
   "execution_count": 72,
   "metadata": {
    "scrolled": false
   },
   "outputs": [
    {
     "data": {
      "text/html": [
       "<div>\n",
       "<style scoped>\n",
       "    .dataframe tbody tr th:only-of-type {\n",
       "        vertical-align: middle;\n",
       "    }\n",
       "\n",
       "    .dataframe tbody tr th {\n",
       "        vertical-align: top;\n",
       "    }\n",
       "\n",
       "    .dataframe thead th {\n",
       "        text-align: right;\n",
       "    }\n",
       "</style>\n",
       "<table border=\"1\" class=\"dataframe\">\n",
       "  <thead>\n",
       "    <tr style=\"text-align: right;\">\n",
       "      <th></th>\n",
       "      <th>Tweet</th>\n",
       "      <th>Polarity</th>\n",
       "      <th>Sentiment</th>\n",
       "    </tr>\n",
       "  </thead>\n",
       "  <tbody>\n",
       "    <tr>\n",
       "      <th>0</th>\n",
       "      <td>قبل ان يتحلطم عبيد الدنيا بسبب رفع_الدعم لابد...</td>\n",
       "      <td>pos</td>\n",
       "      <td>1</td>\n",
       "    </tr>\n",
       "    <tr>\n",
       "      <th>1</th>\n",
       "      <td>اكثر الساخطين على قرار رفع_اسعار_البنزين_والك...</td>\n",
       "      <td>neg</td>\n",
       "      <td>0</td>\n",
       "    </tr>\n",
       "    <tr>\n",
       "      <th>2</th>\n",
       "      <td>وبعد فتره من تطبيق رسوم_الاراضي_البيضاا سوف ي...</td>\n",
       "      <td>neut</td>\n",
       "      <td>2</td>\n",
       "    </tr>\n",
       "    <tr>\n",
       "      <th>3</th>\n",
       "      <td>اذاخسر تعادل الهلال حطوا بيضه فوق راسي وتجيكم ...</td>\n",
       "      <td>neut</td>\n",
       "      <td>2</td>\n",
       "    </tr>\n",
       "    <tr>\n",
       "      <th>4</th>\n",
       "      <td>اخطاا كثيره اليوم من لاعبي الهلال بالاخص سلمان...</td>\n",
       "      <td>neg</td>\n",
       "      <td>0</td>\n",
       "    </tr>\n",
       "  </tbody>\n",
       "</table>\n",
       "</div>"
      ],
      "text/plain": [
       "                                               Tweet Polarity  Sentiment\n",
       "0   قبل ان يتحلطم عبيد الدنيا بسبب رفع_الدعم لابد...      pos          1\n",
       "1   اكثر الساخطين على قرار رفع_اسعار_البنزين_والك...      neg          0\n",
       "2   وبعد فتره من تطبيق رسوم_الاراضي_البيضاا سوف ي...     neut          2\n",
       "3  اذاخسر تعادل الهلال حطوا بيضه فوق راسي وتجيكم ...     neut          2\n",
       "4  اخطاا كثيره اليوم من لاعبي الهلال بالاخص سلمان...      neg          0"
      ]
     },
     "execution_count": 72,
     "metadata": {},
     "output_type": "execute_result"
    }
   ],
   "source": [
    "def transform(x):\n",
    "    if x == 'neg':\n",
    "        return 0\n",
    "    elif x == 'pos':\n",
    "        return 1\n",
    "    return 2\n",
    "data['Sentiment'] = data['Polarity'].apply(transform)\n",
    "data.head()"
   ]
  },
  {
   "cell_type": "code",
   "execution_count": 73,
   "metadata": {},
   "outputs": [
    {
     "data": {
      "text/html": [
       "<div>\n",
       "<style scoped>\n",
       "    .dataframe tbody tr th:only-of-type {\n",
       "        vertical-align: middle;\n",
       "    }\n",
       "\n",
       "    .dataframe tbody tr th {\n",
       "        vertical-align: top;\n",
       "    }\n",
       "\n",
       "    .dataframe thead th {\n",
       "        text-align: right;\n",
       "    }\n",
       "</style>\n",
       "<table border=\"1\" class=\"dataframe\">\n",
       "  <thead>\n",
       "    <tr style=\"text-align: right;\">\n",
       "      <th></th>\n",
       "      <th>Tweet</th>\n",
       "      <th>Polarity</th>\n",
       "      <th>Sentiment</th>\n",
       "      <th>clean</th>\n",
       "    </tr>\n",
       "  </thead>\n",
       "  <tbody>\n",
       "    <tr>\n",
       "      <th>0</th>\n",
       "      <td>قبل ان يتحلطم عبيد الدنيا بسبب رفع_الدعم لابد...</td>\n",
       "      <td>pos</td>\n",
       "      <td>1</td>\n",
       "      <td>[يتحلطم, عبيد, الدنيا, بسب, رفع, لابد, نتذكر, ...</td>\n",
       "    </tr>\n",
       "    <tr>\n",
       "      <th>1</th>\n",
       "      <td>اكثر الساخطين على قرار رفع_اسعار_البنزين_والك...</td>\n",
       "      <td>neg</td>\n",
       "      <td>0</td>\n",
       "      <td>[الساخطين, قرار, رفع, خرفان, لديهم, ارتباطات, ...</td>\n",
       "    </tr>\n",
       "    <tr>\n",
       "      <th>2</th>\n",
       "      <td>وبعد فتره من تطبيق رسوم_الاراضي_البيضاا سوف ي...</td>\n",
       "      <td>neut</td>\n",
       "      <td>2</td>\n",
       "      <td>[وبعد, فتره, تطبيق, رسوم, يتمكن, باءع, الارض, ...</td>\n",
       "    </tr>\n",
       "    <tr>\n",
       "      <th>3</th>\n",
       "      <td>اذاخسر تعادل الهلال حطوا بيضه فوق راسي وتجيكم ...</td>\n",
       "      <td>neut</td>\n",
       "      <td>2</td>\n",
       "      <td>[اذاخسر, تعادل, الهلال, حطوا, بيضه, راسي, وتجي...</td>\n",
       "    </tr>\n",
       "    <tr>\n",
       "      <th>4</th>\n",
       "      <td>اخطاا كثيره اليوم من لاعبي الهلال بالاخص سلمان...</td>\n",
       "      <td>neg</td>\n",
       "      <td>0</td>\n",
       "      <td>[اخطا, كثيره, لاعبي, الهلال, بالاخص, سلمان, ال...</td>\n",
       "    </tr>\n",
       "    <tr>\n",
       "      <th>5</th>\n",
       "      <td>والله لو كان سكان غزه من غير المسلمين بل لو ك...</td>\n",
       "      <td>neut</td>\n",
       "      <td>2</td>\n",
       "      <td>[واله, سكان, غزه, المسلمين, كانوا, ليسوا, البش...</td>\n",
       "    </tr>\n",
       "    <tr>\n",
       "      <th>6</th>\n",
       "      <td>رفع_اسعار_البنزين_والكهرباا ي حسرتي ي وجودي م...</td>\n",
       "      <td>neg</td>\n",
       "      <td>0</td>\n",
       "      <td>[رفع, حسرتي, وجودي, ماعاد, فره]</td>\n",
       "    </tr>\n",
       "    <tr>\n",
       "      <th>7</th>\n",
       "      <td>الحمدلله على عطائه الحمدلله على نعمه التي لا ...</td>\n",
       "      <td>pos</td>\n",
       "      <td>1</td>\n",
       "      <td>[الحمدله, عطاءه, الحمدله, نعمه, تعد, تحصي, غير...</td>\n",
       "    </tr>\n",
       "    <tr>\n",
       "      <th>8</th>\n",
       "      <td>ابطالنا يسطرون الملاحم بشجاعه وبساله اللهم ثب...</td>\n",
       "      <td>pos</td>\n",
       "      <td>1</td>\n",
       "      <td>[ابطالنا, يسطرون, الملاحم, بشجاعه, وبساله, اله...</td>\n",
       "    </tr>\n",
       "    <tr>\n",
       "      <th>9</th>\n",
       "      <td>الحين ليش تغردون اصلا انا غايب غايب تعليق_الدر...</td>\n",
       "      <td>neut</td>\n",
       "      <td>2</td>\n",
       "      <td>[الحين, ليش, تغردون, اصلا, انا, غايب, غايب, تع...</td>\n",
       "    </tr>\n",
       "  </tbody>\n",
       "</table>\n",
       "</div>"
      ],
      "text/plain": [
       "                                               Tweet Polarity  Sentiment  \\\n",
       "0   قبل ان يتحلطم عبيد الدنيا بسبب رفع_الدعم لابد...      pos          1   \n",
       "1   اكثر الساخطين على قرار رفع_اسعار_البنزين_والك...      neg          0   \n",
       "2   وبعد فتره من تطبيق رسوم_الاراضي_البيضاا سوف ي...     neut          2   \n",
       "3  اذاخسر تعادل الهلال حطوا بيضه فوق راسي وتجيكم ...     neut          2   \n",
       "4  اخطاا كثيره اليوم من لاعبي الهلال بالاخص سلمان...      neg          0   \n",
       "5   والله لو كان سكان غزه من غير المسلمين بل لو ك...     neut          2   \n",
       "6   رفع_اسعار_البنزين_والكهرباا ي حسرتي ي وجودي م...      neg          0   \n",
       "7   الحمدلله على عطائه الحمدلله على نعمه التي لا ...      pos          1   \n",
       "8   ابطالنا يسطرون الملاحم بشجاعه وبساله اللهم ثب...      pos          1   \n",
       "9  الحين ليش تغردون اصلا انا غايب غايب تعليق_الدر...     neut          2   \n",
       "\n",
       "                                               clean  \n",
       "0  [يتحلطم, عبيد, الدنيا, بسب, رفع, لابد, نتذكر, ...  \n",
       "1  [الساخطين, قرار, رفع, خرفان, لديهم, ارتباطات, ...  \n",
       "2  [وبعد, فتره, تطبيق, رسوم, يتمكن, باءع, الارض, ...  \n",
       "3  [اذاخسر, تعادل, الهلال, حطوا, بيضه, راسي, وتجي...  \n",
       "4  [اخطا, كثيره, لاعبي, الهلال, بالاخص, سلمان, ال...  \n",
       "5  [واله, سكان, غزه, المسلمين, كانوا, ليسوا, البش...  \n",
       "6                    [رفع, حسرتي, وجودي, ماعاد, فره]  \n",
       "7  [الحمدله, عطاءه, الحمدله, نعمه, تعد, تحصي, غير...  \n",
       "8  [ابطالنا, يسطرون, الملاحم, بشجاعه, وبساله, اله...  \n",
       "9  [الحين, ليش, تغردون, اصلا, انا, غايب, غايب, تع...  "
      ]
     },
     "execution_count": 73,
     "metadata": {},
     "output_type": "execute_result"
    }
   ],
   "source": [
    "#remove users\n",
    "data['clean'] = data['Tweet'].apply(lambda x: re.sub('(@[A-Za-z]+)', '', x, flags=re.UNICODE))\n",
    "\n",
    "#remove hashtags\n",
    "data['clean'] = data['clean'].apply(lambda x: re.sub('(#[أ-ي]+)|(_[أ-ي]+)', '', x, flags=re.UNICODE))\n",
    "\n",
    "#remove letters, numbers & symbols\n",
    "data['clean'] = data['clean'].apply(lambda x: re.sub('[a-zA-Z0-9@=$:.،%^*\"#~£/&\\n؟?!-_]', '', x, flags=re.UNICODE))\n",
    "\n",
    "#arabic numbers\n",
    "data['clean'] = data['clean'].apply(lambda x: re.sub('[٠١٢٣٤٥٦٧٨٩]', '', x, flags=re.UNICODE))\n",
    "\n",
    "#nltk tokenize\n",
    "data['clean'].apply(word_tokenize)\n",
    "data['clean'] = data['clean'].apply(word_tokenize) \n",
    "\n",
    "#repeated letters\n",
    "data['clean']= data['clean'].apply(lambda x: [''.join(ch for ch, _ in itertools.groupby(y)) for y in x])\n",
    "\n",
    "#normalization\n",
    "def normalizeArabic(text):\n",
    "    text = re.sub(\"[إأٱآا]\", \"ا\", text)\n",
    "    text = re.sub(\"ى\", \"ي\", text)\n",
    "    text = re.sub(\"ؤ\", \"و\", text)\n",
    "    text = re.sub(\"ئ\", \"ء\", text)\n",
    "    text = re.sub(\"ة\", \"ه\", text)\n",
    "    return(text)\n",
    "data['clean']= data['clean'].apply(lambda x: [normalizeArabic(y) for y in x])\n",
    "\n",
    "#remove stopwords\n",
    "def get_stop_words():\n",
    "    path = 'list.txt'\n",
    "    stop_words = []\n",
    "    with codecs.open(path, \"r\", encoding=\"utf-8\", errors=\"ignore\") as myfile:\n",
    "        stop_words = myfile.readlines()\n",
    "    stop_words = [word.strip() for word in stop_words]\n",
    "    return stop_words\n",
    "\n",
    "stop_words = get_stop_words()\n",
    "data['clean']= data['clean'].apply(lambda x: [item for item in x if item not in stop_words])\n",
    "\n",
    "#remove emojis\n",
    "def remove_emoji(text):\n",
    "    emoji_pattern = re.compile(\"[\"\n",
    "                           u\"\\U0001F600-\\U0001F64F\"  # emoticons\n",
    "                           u\"\\U0001F300-\\U0001F5FF\"  # symbols & pictographs\n",
    "                           u\"\\U0001F680-\\U0001F6FF\"  # transport & map symbols\n",
    "                           u\"\\U0001F1E0-\\U0001F1FF\"  # flags (iOS)\n",
    "                           u\"\\U00002702-\\U000027B0\"\n",
    "                           u\"\\U000024C2-\\U0001F251\"\n",
    "                           \"]+\", flags=re.UNICODE)\n",
    "    return emoji_pattern.sub(r'', text)\n",
    "\n",
    "data['clean']= data['clean'].apply(lambda x: [remove_emoji(y) for y in x])\n",
    "\n",
    "data.head(10)"
   ]
  },
  {
   "cell_type": "code",
   "execution_count": 74,
   "metadata": {},
   "outputs": [],
   "source": [
    "CBOW = Word2Vec.load('../Desktop/aravecuni/full_uni_cbow_100_twitter.mdl')\n",
    "CBOWE = CBOW.wv.get_keras_embedding()"
   ]
  },
  {
   "cell_type": "code",
   "execution_count": 75,
   "metadata": {},
   "outputs": [],
   "source": [
    "# def buildWordVector(tokens, size):\n",
    "#     vec = np.zeros(size).reshape((1, size))\n",
    "#     count = 0.\n",
    "#     for word in tokens:\n",
    "#         try:\n",
    "#             vec += CBOW[word].reshape((1, size))\n",
    "#             count += 1.\n",
    "#         except KeyError: # handling the case where the token is not\n",
    "#             continue\n",
    "#     if count != 0:\n",
    "#         vec /= count\n",
    "#     return vec\n",
    "\n",
    "# X_train = np.concatenate([buildWordVector(x, 100) for x in data['clean']])\n",
    "# X_train.shape"
   ]
  },
  {
   "cell_type": "code",
   "execution_count": 39,
   "metadata": {},
   "outputs": [],
   "source": [
    "y = to_categorical(data['Sentiment'].values)"
   ]
  },
  {
   "cell_type": "code",
   "execution_count": 40,
   "metadata": {},
   "outputs": [
    {
     "data": {
      "text/plain": [
       "array([[    0,     0,     0,     0,     0,     0,     0,     0,     0,\n",
       "            0,     0,     0,     0,     0,     0,     0,     0,     0,\n",
       "            0,   761,  6231, 35366,  3894,  9821,    46],\n",
       "       [    0,     0,     0,     0,     0,     0,     0,     0, 18406,\n",
       "        18407, 14922,  8799, 18408, 18409, 14923, 18410, 18411, 18412,\n",
       "        12770,  1725, 14924,  3713, 12771, 18413, 18414],\n",
       "       [    0,     0,     0,     0,     0,     0,     0,     0,     0,\n",
       "            0,     0,     0,     0,     0,     0,     0,     0,     0,\n",
       "            0,     0,     0,     0,  1122,     1, 35367],\n",
       "       [    0,     0,     0,     0,     0,     0,     0,     0,     0,\n",
       "            0,     0,    94,   194,  1086,   443,   762,     1, 12772,\n",
       "         7952, 14925,   186, 23980,   970, 18415,     1],\n",
       "       [    0,     0,     0,     0,     0,     0,     0,     0,     0,\n",
       "            0,     0,     0,     0,     0,     0,     1,   120,    60,\n",
       "         3530,   278,  1024,   537,  3530, 12773,  1024]])"
      ]
     },
     "execution_count": 40,
     "metadata": {},
     "output_type": "execute_result"
    }
   ],
   "source": [
    "tokenizer = Tokenizer(num_words=len(data['clean']), split=\" \")\n",
    "tokenizer.fit_on_texts(data['clean'].values)\n",
    "\n",
    "X = tokenizer.texts_to_sequences(data['clean'].values)\n",
    "X = pad_sequences(X) # padding our text vector so they all have the same length\n",
    "X[:5]"
   ]
  },
  {
   "cell_type": "code",
   "execution_count": 41,
   "metadata": {},
   "outputs": [
    {
     "data": {
      "text/plain": [
       "(56674, 25)"
      ]
     },
     "execution_count": 41,
     "metadata": {},
     "output_type": "execute_result"
    }
   ],
   "source": [
    "X.shape"
   ]
  },
  {
   "cell_type": "markdown",
   "metadata": {},
   "source": [
    "## Prepare metrics"
   ]
  },
  {
   "cell_type": "code",
   "execution_count": 42,
   "metadata": {},
   "outputs": [],
   "source": [
    "from keras import backend as K\n",
    "\n",
    "\n",
    "# calculate f score\n",
    "def f1(y_true, y_pred):\n",
    "    def recall(y_true, y_pred):\n",
    "        \"\"\"Recall metric.\n",
    "\n",
    "        Only computes a batch-wise average of recall.\n",
    "\n",
    "        Computes the recall, a metric for multi-label classification of\n",
    "        how many relevant items are selected.\n",
    "        \"\"\"\n",
    "        true_positives = K.sum(K.round(K.clip(y_true * y_pred, 0, 1)))\n",
    "        possible_positives = K.sum(K.round(K.clip(y_true, 0, 1)))\n",
    "        recall = true_positives / (possible_positives + K.epsilon())\n",
    "        return recall\n",
    "\n",
    "    def precision(y_true, y_pred):\n",
    "        \"\"\"Precision metric.\n",
    "\n",
    "        Only computes a batch-wise average of precision.\n",
    "\n",
    "        Computes the precision, a metric for multi-label classification of\n",
    "        how many selected items are relevant.\n",
    "        \"\"\"\n",
    "        true_positives = K.sum(K.round(K.clip(y_true * y_pred, 0, 1)))\n",
    "        predicted_positives = K.sum(K.round(K.clip(y_pred, 0, 1)))\n",
    "        precision = true_positives / (predicted_positives + K.epsilon())\n",
    "        return precision\n",
    "    precision = precision(y_true, y_pred)\n",
    "    recall = recall(y_true, y_pred)\n",
    "    return 2*((precision*recall)/(precision+recall+K.epsilon()))"
   ]
  },
  {
   "cell_type": "code",
   "execution_count": 43,
   "metadata": {},
   "outputs": [
    {
     "name": "stdout",
     "output_type": "stream",
     "text": [
      "WARNING:tensorflow:From C:\\Users\\Asma Al Wazrah\\Anaconda3\\lib\\site-packages\\tensorflow\\python\\framework\\op_def_library.py:263: colocate_with (from tensorflow.python.framework.ops) is deprecated and will be removed in a future version.\n",
      "Instructions for updating:\n",
      "Colocations handled automatically by placer.\n"
     ]
    }
   ],
   "source": [
    "# metrics\n",
    "metrics = [\n",
    "    'accuracy',\n",
    "    keras_metrics.precision(),\n",
    "    keras_metrics.recall(),\n",
    "    f1,\n",
    "]"
   ]
  },
  {
   "cell_type": "code",
   "execution_count": 65,
   "metadata": {},
   "outputs": [],
   "source": [
    "# hyperparamters\n",
    "BATCH_SIZE = 64\n",
    "LEARNING_RATE = 0.001\n",
    "VALIDATION_SPLIT = 0.3\n",
    "EPOCHS = 10"
   ]
  },
  {
   "cell_type": "markdown",
   "metadata": {},
   "source": [
    "#  Build the models"
   ]
  },
  {
   "cell_type": "markdown",
   "metadata": {},
   "source": [
    "## Stacked-LSTM"
   ]
  },
  {
   "cell_type": "code",
   "execution_count": 45,
   "metadata": {
    "scrolled": false
   },
   "outputs": [
    {
     "name": "stdout",
     "output_type": "stream",
     "text": [
      "Wall time: 0 ns\n",
      "WARNING:tensorflow:From C:\\Users\\Asma Al Wazrah\\Anaconda3\\lib\\site-packages\\keras\\backend\\tensorflow_backend.py:3445: calling dropout (from tensorflow.python.ops.nn_ops) with keep_prob is deprecated and will be removed in a future version.\n",
      "Instructions for updating:\n",
      "Please use `rate` instead of `keep_prob`. Rate should be set to `rate = 1 - keep_prob`.\n",
      "WARNING:tensorflow:From C:\\Users\\Asma Al Wazrah\\Anaconda3\\lib\\site-packages\\tensorflow\\python\\ops\\math_ops.py:3066: to_int32 (from tensorflow.python.ops.math_ops) is deprecated and will be removed in a future version.\n",
      "Instructions for updating:\n",
      "Use tf.cast instead.\n",
      "Train on 39671 samples, validate on 17003 samples\n",
      "Epoch 1/10\n",
      "39671/39671 [==============================] - 44s 1ms/step - loss: 0.8554 - acc: 0.6051 - precision: 0.6583 - recall: 0.4768 - f1: 0.5343 - val_loss: 0.7496 - val_acc: 0.6734 - val_precision: 0.6735 - val_recall: 0.6752 - val_f1: 0.644029 - precision: 0.6564 - recall: \n",
      "Epoch 2/10\n",
      "39671/39671 [==============================] - 43s 1ms/step - loss: 0.6630 - acc: 0.7232 - precision: 0.7476 - recall: 0.6747 - f1: 0.7067 - val_loss: 0.6966 - val_acc: 0.7045 - val_precision: 0.7174 - val_recall: 0.6721 - val_f1: 0.6893\n",
      "Epoch 3/10\n",
      "39671/39671 [==============================] - 44s 1ms/step - loss: 0.5639 - acc: 0.7715 - precision: 0.7932 - recall: 0.7365 - f1: 0.7625 - val_loss: 0.7111 - val_acc: 0.7105 - val_precision: 0.7032 - val_recall: 0.7276 - val_f1: 0.7045\n",
      "Epoch 4/10\n",
      "39671/39671 [==============================] - 44s 1ms/step - loss: 0.4818 - acc: 0.8114 - precision: 0.8297 - recall: 0.7887 - f1: 0.8071 - val_loss: 0.7243 - val_acc: 0.7088 - val_precision: 0.7683 - val_recall: 0.6133 - val_f1: 0.7019\n",
      "Epoch 5/10\n",
      "39671/39671 [==============================] - 44s 1ms/step - loss: 0.4100 - acc: 0.8441 - precision: 0.8617 - recall: 0.8285 - f1: 0.8412 - val_loss: 0.7711 - val_acc: 0.7096 - val_precision: 0.7347 - val_recall: 0.6752 - val_f1: 0.7065\n",
      "Epoch 6/10\n",
      "39671/39671 [==============================] - 44s 1ms/step - loss: 0.3477 - acc: 0.8662 - precision: 0.8837 - recall: 0.8558 - f1: 0.8652 - val_loss: 0.8467 - val_acc: 0.7048 - val_precision: 0.6880 - val_recall: 0.7284 - val_f1: 0.7019\n",
      "Epoch 7/10\n",
      "39671/39671 [==============================] - 43s 1ms/step - loss: 0.2951 - acc: 0.8882 - precision: 0.9022 - recall: 0.8809 - f1: 0.8873 - val_loss: 0.9053 - val_acc: 0.6993 - val_precision: 0.7485 - val_recall: 0.6236 - val_f1: 0.6988\n",
      "Epoch 8/10\n",
      "39671/39671 [==============================] - 43s 1ms/step - loss: 0.2518 - acc: 0.9068 - precision: 0.9170 - recall: 0.9018 - f1: 0.9063 - val_loss: 0.9386 - val_acc: 0.7001 - val_precision: 0.6936 - val_recall: 0.7188 - val_f1: 0.6985\n",
      "Epoch 9/10\n",
      "39671/39671 [==============================] - 44s 1ms/step - loss: 0.2148 - acc: 0.9210 - precision: 0.9312 - recall: 0.9179 - f1: 0.9209 - val_loss: 1.0194 - val_acc: 0.7003 - val_precision: 0.6985 - val_recall: 0.7032 - val_f1: 0.7007\n",
      "Epoch 10/10\n",
      "39671/39671 [==============================] - 43s 1ms/step - loss: 0.1891 - acc: 0.9316 - precision: 0.9384 - recall: 0.9288 - f1: 0.9315 - val_loss: 1.1067 - val_acc: 0.7016 - val_precision: 0.7165 - val_recall: 0.6726 - val_f1: 0.6996\n"
     ]
    },
    {
     "data": {
      "text/plain": [
       "<keras.callbacks.History at 0x1452bf55b70>"
      ]
     },
     "execution_count": 45,
     "metadata": {},
     "output_type": "execute_result"
    }
   ],
   "source": [
    "%time\n",
    "lstm_model_input = layers.Input(shape=(X.shape[1],))\n",
    "x = CBOWE(lstm_model_input)\n",
    "x = layers.LSTM(100, return_sequences=True)(x)\n",
    "x = layers.LSTM(100, return_sequences=False)(x)\n",
    "x = layers.Dropout(.5)(x)\n",
    "x = layers.Dense(3, activation='softmax')(x)\n",
    "lstm_model = keras.models.Model(inputs=lstm_model_input, outputs=x)\n",
    "\n",
    "lstm_model.compile(loss='categorical_crossentropy', \n",
    "                   optimizer=optimizers.Adam(lr=LEARNING_RATE),\n",
    "                   metrics=metrics,)\n",
    "lstm_model.fit(X, y, \n",
    "               validation_split=VALIDATION_SPLIT, \n",
    "               batch_size=BATCH_SIZE, \n",
    "               epochs=EPOCHS)"
   ]
  },
  {
   "cell_type": "code",
   "execution_count": 47,
   "metadata": {},
   "outputs": [],
   "source": [
    "lstm_model.save('../Desktop/stacked-lstm-1')"
   ]
  },
  {
   "cell_type": "code",
   "execution_count": 48,
   "metadata": {},
   "outputs": [
    {
     "name": "stdout",
     "output_type": "stream",
     "text": [
      "_________________________________________________________________\n",
      "Layer (type)                 Output Shape              Param #   \n",
      "=================================================================\n",
      "input_1 (InputLayer)         (None, 25)                0         \n",
      "_________________________________________________________________\n",
      "embedding_1 (Embedding)      (None, 25, 100)           125975600 \n",
      "_________________________________________________________________\n",
      "lstm_1 (LSTM)                (None, 25, 100)           80400     \n",
      "_________________________________________________________________\n",
      "lstm_2 (LSTM)                (None, 100)               80400     \n",
      "_________________________________________________________________\n",
      "dropout_1 (Dropout)          (None, 100)               0         \n",
      "_________________________________________________________________\n",
      "dense_1 (Dense)              (None, 3)                 303       \n",
      "=================================================================\n",
      "Total params: 126,136,703\n",
      "Trainable params: 161,103\n",
      "Non-trainable params: 125,975,600\n",
      "_________________________________________________________________\n"
     ]
    }
   ],
   "source": [
    "lstm_model.summary()"
   ]
  },
  {
   "cell_type": "code",
   "execution_count": 66,
   "metadata": {},
   "outputs": [
    {
     "ename": "TypeError",
     "evalue": "'DataFrame' object is not callable",
     "output_type": "error",
     "traceback": [
      "\u001b[1;31m---------------------------------------------------------------------------\u001b[0m",
      "\u001b[1;31mTypeError\u001b[0m                                 Traceback (most recent call last)",
      "\u001b[1;32m<ipython-input-66-a28c71a07a91>\u001b[0m in \u001b[0;36m<module>\u001b[1;34m\u001b[0m\n\u001b[1;32m----> 1\u001b[1;33m \u001b[0mdata\u001b[0m\u001b[1;33m(\u001b[0m\u001b[1;33m)\u001b[0m\u001b[1;33m\u001b[0m\u001b[1;33m\u001b[0m\u001b[0m\n\u001b[0m",
      "\u001b[1;31mTypeError\u001b[0m: 'DataFrame' object is not callable"
     ]
    }
   ],
   "source": [
    "data()"
   ]
  },
  {
   "cell_type": "markdown",
   "metadata": {},
   "source": [
    "## Stacked-GRU"
   ]
  },
  {
   "cell_type": "code",
   "execution_count": 67,
   "metadata": {},
   "outputs": [
    {
     "name": "stdout",
     "output_type": "stream",
     "text": [
      "Wall time: 0 ns\n"
     ]
    },
    {
     "ename": "ValueError",
     "evalue": "When feeding symbolic tensors to a model, we expect thetensors to have a static batch size. Got tensor with shape: (None, 3)",
     "output_type": "error",
     "traceback": [
      "\u001b[1;31m---------------------------------------------------------------------------\u001b[0m",
      "\u001b[1;31mValueError\u001b[0m                                Traceback (most recent call last)",
      "\u001b[1;32m<ipython-input-67-31176e6ad5be>\u001b[0m in \u001b[0;36m<module>\u001b[1;34m\u001b[0m\n\u001b[0;32m     14\u001b[0m                \u001b[0mvalidation_split\u001b[0m\u001b[1;33m=\u001b[0m\u001b[0mVALIDATION_SPLIT\u001b[0m\u001b[1;33m,\u001b[0m\u001b[1;33m\u001b[0m\u001b[1;33m\u001b[0m\u001b[0m\n\u001b[0;32m     15\u001b[0m                \u001b[0mbatch_size\u001b[0m\u001b[1;33m=\u001b[0m\u001b[0mBATCH_SIZE\u001b[0m\u001b[1;33m,\u001b[0m\u001b[1;33m\u001b[0m\u001b[1;33m\u001b[0m\u001b[0m\n\u001b[1;32m---> 16\u001b[1;33m                epochs=EPOCHS)\n\u001b[0m",
      "\u001b[1;32m~\\Anaconda3\\lib\\site-packages\\keras\\engine\\training.py\u001b[0m in \u001b[0;36mfit\u001b[1;34m(self, x, y, batch_size, epochs, verbose, callbacks, validation_split, validation_data, shuffle, class_weight, sample_weight, initial_epoch, steps_per_epoch, validation_steps, **kwargs)\u001b[0m\n\u001b[0;32m    950\u001b[0m             \u001b[0msample_weight\u001b[0m\u001b[1;33m=\u001b[0m\u001b[0msample_weight\u001b[0m\u001b[1;33m,\u001b[0m\u001b[1;33m\u001b[0m\u001b[1;33m\u001b[0m\u001b[0m\n\u001b[0;32m    951\u001b[0m             \u001b[0mclass_weight\u001b[0m\u001b[1;33m=\u001b[0m\u001b[0mclass_weight\u001b[0m\u001b[1;33m,\u001b[0m\u001b[1;33m\u001b[0m\u001b[1;33m\u001b[0m\u001b[0m\n\u001b[1;32m--> 952\u001b[1;33m             batch_size=batch_size)\n\u001b[0m\u001b[0;32m    953\u001b[0m         \u001b[1;31m# Prepare validation data.\u001b[0m\u001b[1;33m\u001b[0m\u001b[1;33m\u001b[0m\u001b[1;33m\u001b[0m\u001b[0m\n\u001b[0;32m    954\u001b[0m         \u001b[0mdo_validation\u001b[0m \u001b[1;33m=\u001b[0m \u001b[1;32mFalse\u001b[0m\u001b[1;33m\u001b[0m\u001b[1;33m\u001b[0m\u001b[0m\n",
      "\u001b[1;32m~\\Anaconda3\\lib\\site-packages\\keras\\engine\\training.py\u001b[0m in \u001b[0;36m_standardize_user_data\u001b[1;34m(self, x, y, sample_weight, class_weight, check_array_lengths, batch_size)\u001b[0m\n\u001b[0;32m    787\u001b[0m                 \u001b[0mfeed_output_shapes\u001b[0m\u001b[1;33m,\u001b[0m\u001b[1;33m\u001b[0m\u001b[1;33m\u001b[0m\u001b[0m\n\u001b[0;32m    788\u001b[0m                 \u001b[0mcheck_batch_axis\u001b[0m\u001b[1;33m=\u001b[0m\u001b[1;32mFalse\u001b[0m\u001b[1;33m,\u001b[0m  \u001b[1;31m# Don't enforce the batch size.\u001b[0m\u001b[1;33m\u001b[0m\u001b[1;33m\u001b[0m\u001b[0m\n\u001b[1;32m--> 789\u001b[1;33m                 exception_prefix='target')\n\u001b[0m\u001b[0;32m    790\u001b[0m \u001b[1;33m\u001b[0m\u001b[0m\n\u001b[0;32m    791\u001b[0m             \u001b[1;31m# Generate sample-wise weight values given the `sample_weight` and\u001b[0m\u001b[1;33m\u001b[0m\u001b[1;33m\u001b[0m\u001b[1;33m\u001b[0m\u001b[0m\n",
      "\u001b[1;32m~\\Anaconda3\\lib\\site-packages\\keras\\engine\\training_utils.py\u001b[0m in \u001b[0;36mstandardize_input_data\u001b[1;34m(data, names, shapes, check_batch_axis, exception_prefix)\u001b[0m\n\u001b[0;32m     90\u001b[0m         \u001b[0mdata\u001b[0m \u001b[1;33m=\u001b[0m \u001b[0mdata\u001b[0m\u001b[1;33m.\u001b[0m\u001b[0mvalues\u001b[0m \u001b[1;32mif\u001b[0m \u001b[0mdata\u001b[0m\u001b[1;33m.\u001b[0m\u001b[0m__class__\u001b[0m\u001b[1;33m.\u001b[0m\u001b[0m__name__\u001b[0m \u001b[1;33m==\u001b[0m \u001b[1;34m'DataFrame'\u001b[0m \u001b[1;32melse\u001b[0m \u001b[0mdata\u001b[0m\u001b[1;33m\u001b[0m\u001b[1;33m\u001b[0m\u001b[0m\n\u001b[0;32m     91\u001b[0m         \u001b[0mdata\u001b[0m \u001b[1;33m=\u001b[0m \u001b[1;33m[\u001b[0m\u001b[0mdata\u001b[0m\u001b[1;33m]\u001b[0m\u001b[1;33m\u001b[0m\u001b[1;33m\u001b[0m\u001b[0m\n\u001b[1;32m---> 92\u001b[1;33m     \u001b[0mdata\u001b[0m \u001b[1;33m=\u001b[0m \u001b[1;33m[\u001b[0m\u001b[0mstandardize_single_array\u001b[0m\u001b[1;33m(\u001b[0m\u001b[0mx\u001b[0m\u001b[1;33m)\u001b[0m \u001b[1;32mfor\u001b[0m \u001b[0mx\u001b[0m \u001b[1;32min\u001b[0m \u001b[0mdata\u001b[0m\u001b[1;33m]\u001b[0m\u001b[1;33m\u001b[0m\u001b[1;33m\u001b[0m\u001b[0m\n\u001b[0m\u001b[0;32m     93\u001b[0m \u001b[1;33m\u001b[0m\u001b[0m\n\u001b[0;32m     94\u001b[0m     \u001b[1;32mif\u001b[0m \u001b[0mlen\u001b[0m\u001b[1;33m(\u001b[0m\u001b[0mdata\u001b[0m\u001b[1;33m)\u001b[0m \u001b[1;33m!=\u001b[0m \u001b[0mlen\u001b[0m\u001b[1;33m(\u001b[0m\u001b[0mnames\u001b[0m\u001b[1;33m)\u001b[0m\u001b[1;33m:\u001b[0m\u001b[1;33m\u001b[0m\u001b[1;33m\u001b[0m\u001b[0m\n",
      "\u001b[1;32m~\\Anaconda3\\lib\\site-packages\\keras\\engine\\training_utils.py\u001b[0m in \u001b[0;36m<listcomp>\u001b[1;34m(.0)\u001b[0m\n\u001b[0;32m     90\u001b[0m         \u001b[0mdata\u001b[0m \u001b[1;33m=\u001b[0m \u001b[0mdata\u001b[0m\u001b[1;33m.\u001b[0m\u001b[0mvalues\u001b[0m \u001b[1;32mif\u001b[0m \u001b[0mdata\u001b[0m\u001b[1;33m.\u001b[0m\u001b[0m__class__\u001b[0m\u001b[1;33m.\u001b[0m\u001b[0m__name__\u001b[0m \u001b[1;33m==\u001b[0m \u001b[1;34m'DataFrame'\u001b[0m \u001b[1;32melse\u001b[0m \u001b[0mdata\u001b[0m\u001b[1;33m\u001b[0m\u001b[1;33m\u001b[0m\u001b[0m\n\u001b[0;32m     91\u001b[0m         \u001b[0mdata\u001b[0m \u001b[1;33m=\u001b[0m \u001b[1;33m[\u001b[0m\u001b[0mdata\u001b[0m\u001b[1;33m]\u001b[0m\u001b[1;33m\u001b[0m\u001b[1;33m\u001b[0m\u001b[0m\n\u001b[1;32m---> 92\u001b[1;33m     \u001b[0mdata\u001b[0m \u001b[1;33m=\u001b[0m \u001b[1;33m[\u001b[0m\u001b[0mstandardize_single_array\u001b[0m\u001b[1;33m(\u001b[0m\u001b[0mx\u001b[0m\u001b[1;33m)\u001b[0m \u001b[1;32mfor\u001b[0m \u001b[0mx\u001b[0m \u001b[1;32min\u001b[0m \u001b[0mdata\u001b[0m\u001b[1;33m]\u001b[0m\u001b[1;33m\u001b[0m\u001b[1;33m\u001b[0m\u001b[0m\n\u001b[0m\u001b[0;32m     93\u001b[0m \u001b[1;33m\u001b[0m\u001b[0m\n\u001b[0;32m     94\u001b[0m     \u001b[1;32mif\u001b[0m \u001b[0mlen\u001b[0m\u001b[1;33m(\u001b[0m\u001b[0mdata\u001b[0m\u001b[1;33m)\u001b[0m \u001b[1;33m!=\u001b[0m \u001b[0mlen\u001b[0m\u001b[1;33m(\u001b[0m\u001b[0mnames\u001b[0m\u001b[1;33m)\u001b[0m\u001b[1;33m:\u001b[0m\u001b[1;33m\u001b[0m\u001b[1;33m\u001b[0m\u001b[0m\n",
      "\u001b[1;32m~\\Anaconda3\\lib\\site-packages\\keras\\engine\\training_utils.py\u001b[0m in \u001b[0;36mstandardize_single_array\u001b[1;34m(x)\u001b[0m\n\u001b[0;32m     23\u001b[0m                 \u001b[1;34m'When feeding symbolic tensors to a model, we expect the'\u001b[0m\u001b[1;33m\u001b[0m\u001b[1;33m\u001b[0m\u001b[0m\n\u001b[0;32m     24\u001b[0m                 \u001b[1;34m'tensors to have a static batch size. '\u001b[0m\u001b[1;33m\u001b[0m\u001b[1;33m\u001b[0m\u001b[0m\n\u001b[1;32m---> 25\u001b[1;33m                 'Got tensor with shape: %s' % str(shape))\n\u001b[0m\u001b[0;32m     26\u001b[0m         \u001b[1;32mreturn\u001b[0m \u001b[0mx\u001b[0m\u001b[1;33m\u001b[0m\u001b[1;33m\u001b[0m\u001b[0m\n\u001b[0;32m     27\u001b[0m     \u001b[1;32melif\u001b[0m \u001b[0mx\u001b[0m\u001b[1;33m.\u001b[0m\u001b[0mndim\u001b[0m \u001b[1;33m==\u001b[0m \u001b[1;36m1\u001b[0m\u001b[1;33m:\u001b[0m\u001b[1;33m\u001b[0m\u001b[1;33m\u001b[0m\u001b[0m\n",
      "\u001b[1;31mValueError\u001b[0m: When feeding symbolic tensors to a model, we expect thetensors to have a static batch size. Got tensor with shape: (None, 3)"
     ]
    }
   ],
   "source": [
    "%time\n",
    "gru_model_input = layers.Input(shape=(X.shape[1],))\n",
    "x = CBOWE(gru_model_input)\n",
    "x = layers.GRU(100, return_sequences=True)(x)\n",
    "x = layers.GRU(100, return_sequences=False)(x)\n",
    "x = layers.Dropout(.5)(x)\n",
    "x = layers.Dense(3, activation='softmax')(x)\n",
    "gru_model = keras.models.Model(inputs=gru_model_input, outputs=x)\n",
    "\n",
    "gru_model.compile(loss='categorical_crossentropy', \n",
    "                   optimizer=optimizers.Adam(lr=LEARNING_RATE),\n",
    "                   metrics=metrics,)\n",
    "gru_model.fit(X, y, \n",
    "               validation_split=VALIDATION_SPLIT, \n",
    "               batch_size=BATCH_SIZE, \n",
    "               epochs=EPOCHS)\n"
   ]
  },
  {
   "cell_type": "code",
   "execution_count": 60,
   "metadata": {},
   "outputs": [
    {
     "name": "stdout",
     "output_type": "stream",
     "text": [
      "_________________________________________________________________\n",
      "Layer (type)                 Output Shape              Param #   \n",
      "=================================================================\n",
      "input_11 (InputLayer)        (None, 25)                0         \n",
      "_________________________________________________________________\n",
      "embedding_1 (Embedding)      multiple                  125975600 \n",
      "_________________________________________________________________\n",
      "gru_18 (GRU)                 (None, 25, 100)           60300     \n",
      "_________________________________________________________________\n",
      "gru_19 (GRU)                 (None, 100)               60300     \n",
      "_________________________________________________________________\n",
      "dropout_10 (Dropout)         (None, 100)               0         \n",
      "_________________________________________________________________\n",
      "dense_10 (Dense)             (None, 3)                 303       \n",
      "=================================================================\n",
      "Total params: 126,096,503\n",
      "Trainable params: 120,903\n",
      "Non-trainable params: 125,975,600\n",
      "_________________________________________________________________\n"
     ]
    }
   ],
   "source": [
    "gru_model.summary()"
   ]
  },
  {
   "cell_type": "code",
   "execution_count": null,
   "metadata": {},
   "outputs": [],
   "source": [
    "gru_model.save('../Desktop/stacked-gru-1')"
   ]
  }
 ],
 "metadata": {
  "kernelspec": {
   "display_name": "Python 3",
   "language": "python",
   "name": "python3"
  },
  "language_info": {
   "codemirror_mode": {
    "name": "ipython",
    "version": 3
   },
   "file_extension": ".py",
   "mimetype": "text/x-python",
   "name": "python",
   "nbconvert_exporter": "python",
   "pygments_lexer": "ipython3",
   "version": "3.7.1"
  }
 },
 "nbformat": 4,
 "nbformat_minor": 2
}
