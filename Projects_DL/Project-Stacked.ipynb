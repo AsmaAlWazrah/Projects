{
 "cells": [
  {
   "cell_type": "code",
   "execution_count": 1,
   "metadata": {},
   "outputs": [
    {
     "name": "stderr",
     "output_type": "stream",
     "text": [
      "Using TensorFlow backend.\n"
     ]
    }
   ],
   "source": [
    "# -*- coding: utf-8 -*-\n",
    "#-------------------------------------------------------------------------------\n",
    "\n",
    "import itertools\n",
    "import pandas as pd\n",
    "import numpy as np\n",
    "%matplotlib inline\n",
    "import matplotlib.pyplot as plt\n",
    "\n",
    "import re\n",
    "import sys\n",
    "import codecs\n",
    "import nltk\n",
    "from nltk.tokenize import word_tokenize\n",
    "from nltk.corpus import stopwords\n",
    "from nltk.stem.isri import ISRIStemmer\n",
    "#from nltk.stem.arlstem import ARLSTem\n",
    "import gensim\n",
    "from gensim.models.word2vec import Word2Vec\n",
    "\n",
    "\n",
    "import keras\n",
    "from keras import layers\n",
    "from keras import optimizers\n",
    "\n",
    "from keras.preprocessing.sequence import pad_sequences\n",
    "from keras.preprocessing.text import Tokenizer\n",
    "from keras.preprocessing.text import text_to_word_sequence\n",
    "from keras.utils import to_categorical\n",
    "\n",
    "import keras_metrics\n"
   ]
  },
  {
   "cell_type": "code",
   "execution_count": 35,
   "metadata": {
    "scrolled": true
   },
   "outputs": [
    {
     "name": "stdout",
     "output_type": "stream",
     "text": [
      "(56674, 2)\n"
     ]
    },
    {
     "data": {
      "text/html": [
       "<div>\n",
       "<style scoped>\n",
       "    .dataframe tbody tr th:only-of-type {\n",
       "        vertical-align: middle;\n",
       "    }\n",
       "\n",
       "    .dataframe tbody tr th {\n",
       "        vertical-align: top;\n",
       "    }\n",
       "\n",
       "    .dataframe thead th {\n",
       "        text-align: right;\n",
       "    }\n",
       "</style>\n",
       "<table border=\"1\" class=\"dataframe\">\n",
       "  <thead>\n",
       "    <tr style=\"text-align: right;\">\n",
       "      <th></th>\n",
       "      <th>Tweet</th>\n",
       "      <th>Polarity</th>\n",
       "    </tr>\n",
       "  </thead>\n",
       "  <tbody>\n",
       "    <tr>\n",
       "      <th>0</th>\n",
       "      <td>السماح_بالسينما_في_السعوديه هاللحين ايش فيها ...</td>\n",
       "      <td>neut</td>\n",
       "    </tr>\n",
       "    <tr>\n",
       "      <th>1</th>\n",
       "      <td>الميزانيه_السعوديه هذي هي الناس بس ماعندها ال...</td>\n",
       "      <td>pos</td>\n",
       "    </tr>\n",
       "    <tr>\n",
       "      <th>2</th>\n",
       "      <td>توقعاتكم لمباراه الهلال_التعاون الاثنين 7 30 ...</td>\n",
       "      <td>neut</td>\n",
       "    </tr>\n",
       "    <tr>\n",
       "      <th>3</th>\n",
       "      <td>مباريات اليوم عوده الجميع ل الوضع الطبيعي الاه...</td>\n",
       "      <td>neut</td>\n",
       "    </tr>\n",
       "    <tr>\n",
       "      <th>4</th>\n",
       "      <td>روما جحفلوا برشلونه بس جحفله من نوع مخزي جدا ب...</td>\n",
       "      <td>neg</td>\n",
       "    </tr>\n",
       "  </tbody>\n",
       "</table>\n",
       "</div>"
      ],
      "text/plain": [
       "                                               Tweet Polarity\n",
       "0   السماح_بالسينما_في_السعوديه هاللحين ايش فيها ...     neut\n",
       "1   الميزانيه_السعوديه هذي هي الناس بس ماعندها ال...      pos\n",
       "2   توقعاتكم لمباراه الهلال_التعاون الاثنين 7 30 ...     neut\n",
       "3  مباريات اليوم عوده الجميع ل الوضع الطبيعي الاه...     neut\n",
       "4  روما جحفلوا برشلونه بس جحفله من نوع مخزي جدا ب...      neg"
      ]
     },
     "execution_count": 35,
     "metadata": {},
     "output_type": "execute_result"
    }
   ],
   "source": [
    "data = pd.read_csv('All_Dataset - Copy.csv', encoding='utf-8')\n",
    "data = data.sample(frac=1).reset_index(drop=True)\n",
    "print(data.shape)\n",
    "data.head()"
   ]
  },
  {
   "cell_type": "code",
   "execution_count": 36,
   "metadata": {},
   "outputs": [
    {
     "data": {
      "text/plain": [
       "<matplotlib.axes._subplots.AxesSubplot at 0x1e2377a24c8>"
      ]
     },
     "execution_count": 36,
     "metadata": {},
     "output_type": "execute_result"
    },
    {
     "data": {
      "image/png": "[encoded data removed]",
      "text/plain": [
       "<Figure size 432x288 with 1 Axes>"
      ]
     },
     "metadata": {
      "needs_background": "light"
     },
     "output_type": "display_data"
    }
   ],
   "source": [
    "data['Polarity'].value_counts().sort_index().plot.bar()"
   ]
  },
  {
   "cell_type": "code",
   "execution_count": 37,
   "metadata": {},
   "outputs": [
    {
     "data": {
      "text/plain": [
       "<matplotlib.axes._subplots.AxesSubplot at 0x1e242650f48>"
      ]
     },
     "execution_count": 37,
     "metadata": {},
     "output_type": "execute_result"
    },
    {
     "data": {
      "image/png": "[encoded data removed]",
      "text/plain": [
       "<Figure size 432x288 with 1 Axes>"
      ]
     },
     "metadata": {
      "needs_background": "light"
     },
     "output_type": "display_data"
    }
   ],
   "source": [
    "data['Tweet'].str.len().plot.hist()"
   ]
  },
  {
   "cell_type": "code",
   "execution_count": 38,
   "metadata": {
    "scrolled": false
   },
   "outputs": [
    {
     "data": {
      "text/html": [
       "<div>\n",
       "<style scoped>\n",
       "    .dataframe tbody tr th:only-of-type {\n",
       "        vertical-align: middle;\n",
       "    }\n",
       "\n",
       "    .dataframe tbody tr th {\n",
       "        vertical-align: top;\n",
       "    }\n",
       "\n",
       "    .dataframe thead th {\n",
       "        text-align: right;\n",
       "    }\n",
       "</style>\n",
       "<table border=\"1\" class=\"dataframe\">\n",
       "  <thead>\n",
       "    <tr style=\"text-align: right;\">\n",
       "      <th></th>\n",
       "      <th>Tweet</th>\n",
       "      <th>Polarity</th>\n",
       "      <th>Sentiment</th>\n",
       "    </tr>\n",
       "  </thead>\n",
       "  <tbody>\n",
       "    <tr>\n",
       "      <th>0</th>\n",
       "      <td>السماح_بالسينما_في_السعوديه هاللحين ايش فيها ...</td>\n",
       "      <td>neut</td>\n",
       "      <td>2</td>\n",
       "    </tr>\n",
       "    <tr>\n",
       "      <th>1</th>\n",
       "      <td>الميزانيه_السعوديه هذي هي الناس بس ماعندها ال...</td>\n",
       "      <td>pos</td>\n",
       "      <td>1</td>\n",
       "    </tr>\n",
       "    <tr>\n",
       "      <th>2</th>\n",
       "      <td>توقعاتكم لمباراه الهلال_التعاون الاثنين 7 30 ...</td>\n",
       "      <td>neut</td>\n",
       "      <td>2</td>\n",
       "    </tr>\n",
       "    <tr>\n",
       "      <th>3</th>\n",
       "      <td>مباريات اليوم عوده الجميع ل الوضع الطبيعي الاه...</td>\n",
       "      <td>neut</td>\n",
       "      <td>2</td>\n",
       "    </tr>\n",
       "    <tr>\n",
       "      <th>4</th>\n",
       "      <td>روما جحفلوا برشلونه بس جحفله من نوع مخزي جدا ب...</td>\n",
       "      <td>neg</td>\n",
       "      <td>0</td>\n",
       "    </tr>\n",
       "  </tbody>\n",
       "</table>\n",
       "</div>"
      ],
      "text/plain": [
       "                                               Tweet Polarity  Sentiment\n",
       "0   السماح_بالسينما_في_السعوديه هاللحين ايش فيها ...     neut          2\n",
       "1   الميزانيه_السعوديه هذي هي الناس بس ماعندها ال...      pos          1\n",
       "2   توقعاتكم لمباراه الهلال_التعاون الاثنين 7 30 ...     neut          2\n",
       "3  مباريات اليوم عوده الجميع ل الوضع الطبيعي الاه...     neut          2\n",
       "4  روما جحفلوا برشلونه بس جحفله من نوع مخزي جدا ب...      neg          0"
      ]
     },
     "execution_count": 38,
     "metadata": {},
     "output_type": "execute_result"
    }
   ],
   "source": [
    "def transform(x):\n",
    "    if x == 'neg':\n",
    "        return 0\n",
    "    elif x == 'pos':\n",
    "        return 1\n",
    "    return 2\n",
    "data['Sentiment'] = data['Polarity'].apply(transform)\n",
    "data.head()"
   ]
  },
  {
   "cell_type": "code",
   "execution_count": 39,
   "metadata": {},
   "outputs": [
    {
     "data": {
      "text/html": [
       "<div>\n",
       "<style scoped>\n",
       "    .dataframe tbody tr th:only-of-type {\n",
       "        vertical-align: middle;\n",
       "    }\n",
       "\n",
       "    .dataframe tbody tr th {\n",
       "        vertical-align: top;\n",
       "    }\n",
       "\n",
       "    .dataframe thead th {\n",
       "        text-align: right;\n",
       "    }\n",
       "</style>\n",
       "<table border=\"1\" class=\"dataframe\">\n",
       "  <thead>\n",
       "    <tr style=\"text-align: right;\">\n",
       "      <th></th>\n",
       "      <th>Tweet</th>\n",
       "      <th>Polarity</th>\n",
       "      <th>Sentiment</th>\n",
       "      <th>clean</th>\n",
       "    </tr>\n",
       "  </thead>\n",
       "  <tbody>\n",
       "    <tr>\n",
       "      <th>0</th>\n",
       "      <td>السماح_بالسينما_في_السعوديه هاللحين ايش فيها ...</td>\n",
       "      <td>neut</td>\n",
       "      <td>2</td>\n",
       "      <td>[السماح, هالحين, ايش, التورنات, تشوف, الفلم, م...</td>\n",
       "    </tr>\n",
       "    <tr>\n",
       "      <th>1</th>\n",
       "      <td>الميزانيه_السعوديه هذي هي الناس بس ماعندها ال...</td>\n",
       "      <td>pos</td>\n",
       "      <td>1</td>\n",
       "      <td>[الميزانيه, هذي, الناس, بس, ماعندها, الكلام, ل...</td>\n",
       "    </tr>\n",
       "    <tr>\n",
       "      <th>2</th>\n",
       "      <td>توقعاتكم لمباراه الهلال_التعاون الاثنين 7 30 ...</td>\n",
       "      <td>neut</td>\n",
       "      <td>2</td>\n",
       "      <td>[توقعاتكم, لمباراه, الهلال, الاثنين, كاس]</td>\n",
       "    </tr>\n",
       "    <tr>\n",
       "      <th>3</th>\n",
       "      <td>مباريات اليوم عوده الجميع ل الوضع الطبيعي الاه...</td>\n",
       "      <td>neut</td>\n",
       "      <td>2</td>\n",
       "      <td>[مباريات, عوده, الجميع, الوضع, الطبيعي, الاهلي...</td>\n",
       "    </tr>\n",
       "    <tr>\n",
       "      <th>4</th>\n",
       "      <td>روما جحفلوا برشلونه بس جحفله من نوع مخزي جدا ب...</td>\n",
       "      <td>neg</td>\n",
       "      <td>0</td>\n",
       "      <td>[روما, جحفلوا, برشلونه, بس, جحفله, نوع, مخزي, ...</td>\n",
       "    </tr>\n",
       "    <tr>\n",
       "      <th>5</th>\n",
       "      <td>ان جلسنا بالبيت زادت فاتوره الكهرب و ان طلعنا ...</td>\n",
       "      <td>neg</td>\n",
       "      <td>0</td>\n",
       "      <td>[جلسنا, بالبيت, زادت, فاتوره, الكهرب, طلعنا, ل...</td>\n",
       "    </tr>\n",
       "    <tr>\n",
       "      <th>6</th>\n",
       "      <td>الهلال يرفض الخساره امام الفتح 3 3 ومتعه كره ا...</td>\n",
       "      <td>pos</td>\n",
       "      <td>1</td>\n",
       "      <td>[الهلال, يرفض, الخساره, الفتح, ومتعه, كره, القدم]</td>\n",
       "    </tr>\n",
       "    <tr>\n",
       "      <th>7</th>\n",
       "      <td>الحمد لله امطر خير وبركه تعليق_الدراسه_في_القصيم</td>\n",
       "      <td>pos</td>\n",
       "      <td>1</td>\n",
       "      <td>[الحمد, امطر, خير, وبركه, تعليق]</td>\n",
       "    </tr>\n",
       "    <tr>\n",
       "      <th>8</th>\n",
       "      <td>هرم النجاح لاي بطل دوري قوه لاعبين قوه حظ قوه...</td>\n",
       "      <td>neut</td>\n",
       "      <td>2</td>\n",
       "      <td>[هرم, النجاح, لاي, بطل, دوري, قوه, لاعبين, قوه...</td>\n",
       "    </tr>\n",
       "    <tr>\n",
       "      <th>9</th>\n",
       "      <td>سنه كامله من الحكم الحوثي الهمجي كفاااااااااا...</td>\n",
       "      <td>neg</td>\n",
       "      <td>0</td>\n",
       "      <td>[سنه, كامله, الحكم, الحوثي, الهمجي, كفايه, صنع...</td>\n",
       "    </tr>\n",
       "  </tbody>\n",
       "</table>\n",
       "</div>"
      ],
      "text/plain": [
       "                                               Tweet Polarity  Sentiment  \\\n",
       "0   السماح_بالسينما_في_السعوديه هاللحين ايش فيها ...     neut          2   \n",
       "1   الميزانيه_السعوديه هذي هي الناس بس ماعندها ال...      pos          1   \n",
       "2   توقعاتكم لمباراه الهلال_التعاون الاثنين 7 30 ...     neut          2   \n",
       "3  مباريات اليوم عوده الجميع ل الوضع الطبيعي الاه...     neut          2   \n",
       "4  روما جحفلوا برشلونه بس جحفله من نوع مخزي جدا ب...      neg          0   \n",
       "5  ان جلسنا بالبيت زادت فاتوره الكهرب و ان طلعنا ...      neg          0   \n",
       "6  الهلال يرفض الخساره امام الفتح 3 3 ومتعه كره ا...      pos          1   \n",
       "7   الحمد لله امطر خير وبركه تعليق_الدراسه_في_القصيم      pos          1   \n",
       "8   هرم النجاح لاي بطل دوري قوه لاعبين قوه حظ قوه...     neut          2   \n",
       "9   سنه كامله من الحكم الحوثي الهمجي كفاااااااااا...      neg          0   \n",
       "\n",
       "                                               clean  \n",
       "0  [السماح, هالحين, ايش, التورنات, تشوف, الفلم, م...  \n",
       "1  [الميزانيه, هذي, الناس, بس, ماعندها, الكلام, ل...  \n",
       "2          [توقعاتكم, لمباراه, الهلال, الاثنين, كاس]  \n",
       "3  [مباريات, عوده, الجميع, الوضع, الطبيعي, الاهلي...  \n",
       "4  [روما, جحفلوا, برشلونه, بس, جحفله, نوع, مخزي, ...  \n",
       "5  [جلسنا, بالبيت, زادت, فاتوره, الكهرب, طلعنا, ل...  \n",
       "6  [الهلال, يرفض, الخساره, الفتح, ومتعه, كره, القدم]  \n",
       "7                   [الحمد, امطر, خير, وبركه, تعليق]  \n",
       "8  [هرم, النجاح, لاي, بطل, دوري, قوه, لاعبين, قوه...  \n",
       "9  [سنه, كامله, الحكم, الحوثي, الهمجي, كفايه, صنع...  "
      ]
     },
     "execution_count": 39,
     "metadata": {},
     "output_type": "execute_result"
    }
   ],
   "source": [
    "#remove users\n",
    "data['clean'] = data['Tweet'].apply(lambda x: re.sub('(@[A-Za-z]+)', '', x, flags=re.UNICODE))\n",
    "\n",
    "#remove hashtags\n",
    "data['clean'] = data['clean'].apply(lambda x: re.sub('(#[أ-ي]+)|(_[أ-ي]+)', '', x, flags=re.UNICODE))\n",
    "\n",
    "#remove letters, numbers & symbols\n",
    "data['clean'] = data['clean'].apply(lambda x: re.sub('[a-zA-Z0-9@=$:.،%^*\"#~£/&\\n؟?!-_]', '', x, flags=re.UNICODE))\n",
    "\n",
    "#arabic numbers\n",
    "data['clean'] = data['clean'].apply(lambda x: re.sub('[٠١٢٣٤٥٦٧٨٩]', '', x, flags=re.UNICODE))\n",
    "\n",
    "#nltk tokenize\n",
    "data['clean'].apply(word_tokenize)\n",
    "data['clean'] = data['clean'].apply(word_tokenize) \n",
    "\n",
    "#repeated letters\n",
    "data['clean']= data['clean'].apply(lambda x: [''.join(ch for ch, _ in itertools.groupby(y)) for y in x])\n",
    "\n",
    "#normalization\n",
    "def normalizeArabic(text):\n",
    "    text = re.sub(\"[إأٱآا]\", \"ا\", text)\n",
    "    text = re.sub(\"ى\", \"ي\", text)\n",
    "    text = re.sub(\"ؤ\", \"و\", text)\n",
    "    text = re.sub(\"ئ\", \"ء\", text)\n",
    "    text = re.sub(\"ة\", \"ه\", text)\n",
    "    return(text)\n",
    "data['clean']= data['clean'].apply(lambda x: [normalizeArabic(y) for y in x])\n",
    "\n",
    "#remove stopwords\n",
    "def get_stop_words():\n",
    "    path = 'list.txt'\n",
    "    stop_words = []\n",
    "    with codecs.open(path, \"r\", encoding=\"utf-8\", errors=\"ignore\") as myfile:\n",
    "        stop_words = myfile.readlines()\n",
    "    stop_words = [word.strip() for word in stop_words]\n",
    "    return stop_words\n",
    "\n",
    "stop_words = get_stop_words()\n",
    "data['clean']= data['clean'].apply(lambda x: [item for item in x if item not in stop_words])\n",
    "\n",
    "#remove emojis\n",
    "def remove_emoji(text):\n",
    "    emoji_pattern = re.compile(\"[\"\n",
    "                           u\"\\U0001F600-\\U0001F64F\"  # emoticons\n",
    "                           u\"\\U0001F300-\\U0001F5FF\"  # symbols & pictographs\n",
    "                           u\"\\U0001F680-\\U0001F6FF\"  # transport & map symbols\n",
    "                           u\"\\U0001F1E0-\\U0001F1FF\"  # flags (iOS)\n",
    "                           u\"\\U00002702-\\U000027B0\"\n",
    "                           u\"\\U000024C2-\\U0001F251\"\n",
    "                           \"]+\", flags=re.UNICODE)\n",
    "    return emoji_pattern.sub(r'', text)\n",
    "\n",
    "data['clean']= data['clean'].apply(lambda x: [remove_emoji(y) for y in x])\n",
    "\n",
    "data.head(10)"
   ]
  },
  {
   "cell_type": "code",
   "execution_count": 40,
   "metadata": {},
   "outputs": [],
   "source": [
    "CBOW = Word2Vec.load('aravec/tweets_cbow_100')\n",
    "CBOWE = CBOW.wv.get_keras_embedding()"
   ]
  },
  {
   "cell_type": "code",
   "execution_count": 41,
   "metadata": {},
   "outputs": [],
   "source": [
    "# def buildWordVector(tokens, size):\n",
    "#     vec = np.zeros(size).reshape((1, size))\n",
    "#     count = 0.\n",
    "#     for word in tokens:\n",
    "#         try:\n",
    "#             vec += CBOW[word].reshape((1, size))\n",
    "#             count += 1.\n",
    "#         except KeyError: # handling the case where the token is not\n",
    "#             continue\n",
    "#     if count != 0:\n",
    "#         vec /= count\n",
    "#     return vec\n",
    "\n",
    "# X_train = np.concatenate([buildWordVector(x, 100) for x in data['clean']])\n",
    "# X_train.shape"
   ]
  },
  {
   "cell_type": "code",
   "execution_count": 42,
   "metadata": {},
   "outputs": [],
   "source": [
    "y = to_categorical(data['Sentiment'].values)"
   ]
  },
  {
   "cell_type": "code",
   "execution_count": 43,
   "metadata": {},
   "outputs": [
    {
     "data": {
      "text/plain": [
       "array([[    0,     0,     0,     0,     0,     0,     0,     0,    10,\n",
       "         4076,   287, 35366,  1147,  2379,   122,  8799, 14922,  9821,\n",
       "        35367,  3100, 14923, 35368, 35369],\n",
       "       [    0,     0,     0,     0,    11,   120,   127,    21, 35370,\n",
       "          842,   203,   120,  4077, 23980,   124,  4284,   636,  4536,\n",
       "         5810,  1776,  1009,  2103, 12770],\n",
       "       [    0,     0,     0,     0,     0,     0,     0,     0,     0,\n",
       "            0,     0,     0,     0,     0,     0,     0,     0,     0,\n",
       "         2316,   715,     1,  1600,    69],\n",
       "       [    0,     0,     0,     0,     0,     0,     0,     0,     0,\n",
       "            0,     0,     0,     0,     0,     0,   292,   128,   318,\n",
       "          537,  1053,     5,     6,   139],\n",
       "       [    0,     0,     0,     0,     0,     0,     0,     0,     0,\n",
       "            0,     0,     0,     0,     0,     0,    34, 35371,     4,\n",
       "           21,  3227,  2706,  9822,     4]])"
      ]
     },
     "execution_count": 43,
     "metadata": {},
     "output_type": "execute_result"
    }
   ],
   "source": [
    "tokenizer = Tokenizer(num_words=len(data['clean']), split=\" \")\n",
    "tokenizer.fit_on_texts(data['clean'].values)\n",
    "\n",
    "X = tokenizer.texts_to_sequences(data['clean'].values)\n",
    "X = pad_sequences(X) # padding our text vector so they all have the same length\n",
    "X[:5]"
   ]
  },
  {
   "cell_type": "code",
   "execution_count": 44,
   "metadata": {},
   "outputs": [
    {
     "data": {
      "text/plain": [
       "(56674, 23)"
      ]
     },
     "execution_count": 44,
     "metadata": {},
     "output_type": "execute_result"
    }
   ],
   "source": [
    "X.shape"
   ]
  },
  {
   "cell_type": "markdown",
   "metadata": {},
   "source": [
    "## Prepare metrics"
   ]
  },
  {
   "cell_type": "code",
   "execution_count": 45,
   "metadata": {},
   "outputs": [],
   "source": [
    "from keras import backend as K\n",
    "\n",
    "\n",
    "# calculate f score\n",
    "def f1(y_true, y_pred):\n",
    "    def recall(y_true, y_pred):\n",
    "        \"\"\"Recall metric.\n",
    "\n",
    "        Only computes a batch-wise average of recall.\n",
    "\n",
    "        Computes the recall, a metric for multi-label classification of\n",
    "        how many relevant items are selected.\n",
    "        \"\"\"\n",
    "        true_positives = K.sum(K.round(K.clip(y_true * y_pred, 0, 1)))\n",
    "        possible_positives = K.sum(K.round(K.clip(y_true, 0, 1)))\n",
    "        recall = true_positives / (possible_positives + K.epsilon())\n",
    "        return recall\n",
    "\n",
    "    def precision(y_true, y_pred):\n",
    "        \"\"\"Precision metric.\n",
    "\n",
    "        Only computes a batch-wise average of precision.\n",
    "\n",
    "        Computes the precision, a metric for multi-label classification of\n",
    "        how many selected items are relevant.\n",
    "        \"\"\"\n",
    "        true_positives = K.sum(K.round(K.clip(y_true * y_pred, 0, 1)))\n",
    "        predicted_positives = K.sum(K.round(K.clip(y_pred, 0, 1)))\n",
    "        precision = true_positives / (predicted_positives + K.epsilon())\n",
    "        return precision\n",
    "    precision = precision(y_true, y_pred)\n",
    "    recall = recall(y_true, y_pred)\n",
    "    return 2*((precision*recall)/(precision+recall+K.epsilon()))"
   ]
  },
  {
   "cell_type": "code",
   "execution_count": 46,
   "metadata": {},
   "outputs": [
    {
     "name": "stdout",
     "output_type": "stream",
     "text": [
      "tracking <tf.Variable 'Variable:0' shape=() dtype=int32, numpy=0> tp\n",
      "tracking <tf.Variable 'Variable:0' shape=() dtype=int32, numpy=0> fp\n",
      "tracking <tf.Variable 'Variable:0' shape=() dtype=int32, numpy=0> tp\n",
      "tracking <tf.Variable 'Variable:0' shape=() dtype=int32, numpy=0> fn\n"
     ]
    }
   ],
   "source": [
    "# metrics\n",
    "metrics = [\n",
    "    'accuracy',\n",
    "    keras_metrics.precision(),\n",
    "    keras_metrics.recall(),\n",
    "    f1,\n",
    "]"
   ]
  },
  {
   "cell_type": "code",
   "execution_count": 47,
   "metadata": {},
   "outputs": [],
   "source": [
    "# hyperparamters\n",
    "BATCH_SIZE = 64\n",
    "LEARNING_RATE = 0.001\n",
    "VALIDATION_SPLIT = 0.3\n",
    "EPOCHS = 10"
   ]
  },
  {
   "cell_type": "markdown",
   "metadata": {},
   "source": [
    "#  Build the models"
   ]
  },
  {
   "cell_type": "markdown",
   "metadata": {},
   "source": [
    "## Stacked-LSTM"
   ]
  },
  {
   "cell_type": "code",
   "execution_count": 16,
   "metadata": {
    "scrolled": false
   },
   "outputs": [
    {
     "name": "stdout",
     "output_type": "stream",
     "text": [
      "Train on 39671 samples, validate on 17003 samples\n",
      "Epoch 1/10\n",
      "39671/39671 [==============================] - 78s 2ms/step - loss: 0.8330 - accuracy: 0.6185 - precision: 0.6178 - recall: 0.3377 - f1: 0.5515 - val_loss: 0.7316 - val_accuracy: 0.6858 - val_precision: 0.7423 - val_recall: 0.5661 - val_f1: 0.6590\n",
      "Epoch 2/10\n",
      "39671/39671 [==============================] - 71s 2ms/step - loss: 0.6610 - accuracy: 0.7229 - precision: 0.7602 - recall: 0.6660 - f1: 0.7065 - val_loss: 0.7009 - val_accuracy: 0.6997 - val_precision: 0.7651 - val_recall: 0.5563 - val_f1: 0.6796\n",
      "Epoch 3/10\n",
      "39671/39671 [==============================] - 87s 2ms/step - loss: 0.5597 - accuracy: 0.7719 - precision: 0.8123 - recall: 0.7376 - f1: 0.7636 - val_loss: 0.7123 - val_accuracy: 0.7054 - val_precision: 0.7323 - val_recall: 0.6384 - val_f1: 0.6989\n",
      "Epoch 4/10\n",
      "39671/39671 [==============================] - 74s 2ms/step - loss: 0.4707 - accuracy: 0.8155 - precision: 0.8493 - recall: 0.7969 - f1: 0.8106 - val_loss: 0.7193 - val_accuracy: 0.7073 - val_precision: 0.7048 - val_recall: 0.7036 - val_f1: 0.7023\n",
      "Epoch 5/10\n",
      "39671/39671 [==============================] - 72s 2ms/step - loss: 0.3988 - accuracy: 0.8454 - precision: 0.8745 - recall: 0.8400 - f1: 0.8428 - val_loss: 0.7636 - val_accuracy: 0.7055 - val_precision: 0.7143 - val_recall: 0.6868 - val_f1: 0.7009\n",
      "Epoch 6/10\n",
      "39671/39671 [==============================] - 71s 2ms/step - loss: 0.3323 - accuracy: 0.8731 - precision: 0.8985 - recall: 0.8714 - f1: 0.8715 - val_loss: 0.8317 - val_accuracy: 0.7055 - val_precision: 0.7169 - val_recall: 0.6716 - val_f1: 0.7037\n",
      "Epoch 7/10\n",
      "39671/39671 [==============================] - 78s 2ms/step - loss: 0.2846 - accuracy: 0.8929 - precision: 0.9195 - recall: 0.8952 - f1: 0.8918 - val_loss: 0.9317 - val_accuracy: 0.6987 - val_precision: 0.7398 - val_recall: 0.6163 - val_f1: 0.6950\n",
      "Epoch 8/10\n",
      "39671/39671 [==============================] - 82s 2ms/step - loss: 0.2359 - accuracy: 0.9114 - precision: 0.9334 - recall: 0.9096 - f1: 0.9112 - val_loss: 1.0232 - val_accuracy: 0.7039 - val_precision: 0.6925 - val_recall: 0.7303 - val_f1: 0.7021\n",
      "Epoch 9/10\n",
      "39671/39671 [==============================] - 81s 2ms/step - loss: 0.2007 - accuracy: 0.9261 - precision: 0.9447 - recall: 0.9330 - f1: 0.9257 - val_loss: 1.1120 - val_accuracy: 0.6894 - val_precision: 0.7275 - val_recall: 0.6077 - val_f1: 0.6888\n",
      "Epoch 10/10\n",
      "39671/39671 [==============================] - 78s 2ms/step - loss: 0.1755 - accuracy: 0.9360 - precision: 0.9526 - recall: 0.9414 - f1: 0.9359 - val_loss: 1.1049 - val_accuracy: 0.6956 - val_precision: 0.7029 - val_recall: 0.6747 - val_f1: 0.6922\n"
     ]
    },
    {
     "data": {
      "text/plain": [
       "<keras.callbacks.callbacks.History at 0x1e20e942e88>"
      ]
     },
     "execution_count": 16,
     "metadata": {},
     "output_type": "execute_result"
    }
   ],
   "source": [
    "%time\n",
    "lstm_model_input = layers.Input(shape=(X.shape[1],))\n",
    "x = CBOWE(lstm_model_input)\n",
    "x = layers.LSTM(100, return_sequences=True)(x)\n",
    "x = layers.LSTM(100, return_sequences=False)(x)\n",
    "x = layers.Dropout(.5)(x)\n",
    "x = layers.Dense(3, activation='softmax')(x)\n",
    "lstm_model = keras.models.Model(inputs=lstm_model_input, outputs=x)\n",
    "\n",
    "lstm_model.compile(loss='categorical_crossentropy', \n",
    "                   optimizer=optimizers.Adam(lr=LEARNING_RATE),\n",
    "                   metrics=metrics,)\n",
    "lstm_model.fit(X, y, \n",
    "               validation_split=VALIDATION_SPLIT, \n",
    "               batch_size=BATCH_SIZE, \n",
    "               epochs=EPOCHS)"
   ]
  },
  {
   "cell_type": "code",
   "execution_count": 17,
   "metadata": {},
   "outputs": [],
   "source": [
    "lstm_model.save('outputs/stacked-lstm-1')"
   ]
  },
  {
   "cell_type": "code",
   "execution_count": 18,
   "metadata": {},
   "outputs": [
    {
     "name": "stdout",
     "output_type": "stream",
     "text": [
      "Model: \"model_1\"\n",
      "_________________________________________________________________\n",
      "Layer (type)                 Output Shape              Param #   \n",
      "=================================================================\n",
      "input_2 (InputLayer)         (None, 26)                0         \n",
      "_________________________________________________________________\n",
      "embedding_1 (Embedding)      (None, 26, 100)           33167900  \n",
      "_________________________________________________________________\n",
      "lstm_3 (LSTM)                (None, 26, 100)           80400     \n",
      "_________________________________________________________________\n",
      "lstm_4 (LSTM)                (None, 100)               80400     \n",
      "_________________________________________________________________\n",
      "dropout_1 (Dropout)          (None, 100)               0         \n",
      "_________________________________________________________________\n",
      "dense_1 (Dense)              (None, 3)                 303       \n",
      "=================================================================\n",
      "Total params: 33,329,003\n",
      "Trainable params: 161,103\n",
      "Non-trainable params: 33,167,900\n",
      "_________________________________________________________________\n"
     ]
    }
   ],
   "source": [
    "lstm_model.summary()"
   ]
  },
  {
   "cell_type": "markdown",
   "metadata": {},
   "source": [
    "## Stacked-GRU"
   ]
  },
  {
   "cell_type": "code",
   "execution_count": 48,
   "metadata": {},
   "outputs": [
    {
     "name": "stdout",
     "output_type": "stream",
     "text": [
      "Wall time: 0 ns\n",
      "Train on 39671 samples, validate on 17003 samples\n",
      "Epoch 1/10\n",
      "39671/39671 [==============================] - 63s 2ms/step - loss: 0.8673 - accuracy: 0.5984 - precision: 0.5653 - recall: 0.3659 - f1: 0.5495 - val_loss: 0.7507 - val_accuracy: 0.6682 - val_precision: 0.7286 - val_recall: 0.5372 - val_f1: 0.6407\n",
      "Epoch 2/10\n",
      "39671/39671 [==============================] - 63s 2ms/step - loss: 0.6875 - accuracy: 0.7097 - precision: 0.7290 - recall: 0.6519 - f1: 0.6931 - val_loss: 0.7140 - val_accuracy: 0.6934 - val_precision: 0.6890 - val_recall: 0.7179 - val_f1: 0.6760\n",
      "Epoch 3/10\n",
      "39671/39671 [==============================] - 64s 2ms/step - loss: 0.5973 - accuracy: 0.7541 - precision: 0.7756 - recall: 0.7174 - f1: 0.7458 - val_loss: 0.6989 - val_accuracy: 0.6953 - val_precision: 0.7312 - val_recall: 0.6418 - val_f1: 0.6857\n",
      "Epoch 4/10\n",
      "39671/39671 [==============================] - 64s 2ms/step - loss: 0.5188 - accuracy: 0.7921 - precision: 0.8180 - recall: 0.7749 - f1: 0.7869 - val_loss: 0.7290 - val_accuracy: 0.6951 - val_precision: 0.7571 - val_recall: 0.5821 - val_f1: 0.6886\n",
      "Epoch 5/10\n",
      "39671/39671 [==============================] - 63s 2ms/step - loss: 0.4445 - accuracy: 0.8255 - precision: 0.8474 - recall: 0.8051 - f1: 0.8214 - val_loss: 0.7511 - val_accuracy: 0.7006 - val_precision: 0.6879 - val_recall: 0.7159 - val_f1: 0.6966curacy: 0.8347 - precisi - ETA: 30 - ETA: 22s - los - ETA: 14s - l\n",
      "Epoch 6/10\n",
      "39671/39671 [==============================] - 64s 2ms/step - loss: 0.3781 - accuracy: 0.8554 - precision: 0.8811 - recall: 0.8514 - f1: 0.8538 - val_loss: 0.7988 - val_accuracy: 0.6965 - val_precision: 0.6960 - val_recall: 0.6978 - val_f1: 0.6939\n",
      "Epoch 7/10\n",
      "39671/39671 [==============================] - 64s 2ms/step - loss: 0.3154 - accuracy: 0.8821 - precision: 0.9072 - recall: 0.8862 - f1: 0.8814 - val_loss: 0.8619 - val_accuracy: 0.6939 - val_precision: 0.6829 - val_recall: 0.7113 - val_f1: 0.6915- precision: 0.9072 - recall: 0.8862 - f1: 0.\n",
      "Epoch 8/10\n",
      "39671/39671 [==============================] - 65s 2ms/step - loss: 0.2646 - accuracy: 0.9029 - precision: 0.9223 - recall: 0.9078 - f1: 0.9026 - val_loss: 0.9871 - val_accuracy: 0.6908 - val_precision: 0.6954 - val_recall: 0.6685 - val_f1: 0.6890\n",
      "Epoch 9/10\n",
      "39671/39671 [==============================] - 51s 1ms/step - loss: 0.2224 - accuracy: 0.9190 - precision: 0.9364 - recall: 0.9292 - f1: 0.9193 - val_loss: 1.0568 - val_accuracy: 0.6889 - val_precision: 0.6854 - val_recall: 0.6938 - val_f1: 0.6875\n",
      "Epoch 10/10\n",
      "39671/39671 [==============================] - 62s 2ms/step - loss: 0.1899 - accuracy: 0.9315 - precision: 0.9434 - recall: 0.9364 - f1: 0.9315 - val_loss: 1.1852 - val_accuracy: 0.6861 - val_precision: 0.6986 - val_recall: 0.6457 - val_f1: 0.6847\n"
     ]
    }
   ],
   "source": [
    "%time\n",
    "gru_model_input = layers.Input(shape=(X.shape[1],))\n",
    "x = CBOWE(gru_model_input)\n",
    "x = layers.GRU(100, return_sequences=True)(x)\n",
    "x = layers.GRU(100, return_sequences=False)(x)\n",
    "x = layers.Dropout(.5)(x)\n",
    "x = layers.Dense(3, activation='softmax')(x)\n",
    "gru_model = keras.models.Model(inputs=gru_model_input, outputs=x)\n",
    "\n",
    "gru_model.compile(loss='categorical_crossentropy', \n",
    "                   optimizer=optimizers.Adam(lr=LEARNING_RATE),\n",
    "                   metrics=metrics,)\n",
    "gru_model.fit(X, y, \n",
    "               validation_split=VALIDATION_SPLIT, \n",
    "               batch_size=BATCH_SIZE, \n",
    "               epochs=EPOCHS)\n",
    "gru_model.save('outputs/stacked-gru-1')"
   ]
  },
  {
   "cell_type": "code",
   "execution_count": 49,
   "metadata": {},
   "outputs": [
    {
     "name": "stdout",
     "output_type": "stream",
     "text": [
      "Model: \"model_5\"\n",
      "_________________________________________________________________\n",
      "Layer (type)                 Output Shape              Param #   \n",
      "=================================================================\n",
      "input_6 (InputLayer)         (None, 23)                0         \n",
      "_________________________________________________________________\n",
      "embedding_3 (Embedding)      (None, 23, 100)           33167900  \n",
      "_________________________________________________________________\n",
      "gru_7 (GRU)                  (None, 23, 100)           60300     \n",
      "_________________________________________________________________\n",
      "gru_8 (GRU)                  (None, 100)               60300     \n",
      "_________________________________________________________________\n",
      "dropout_5 (Dropout)          (None, 100)               0         \n",
      "_________________________________________________________________\n",
      "dense_5 (Dense)              (None, 3)                 303       \n",
      "=================================================================\n",
      "Total params: 33,288,803\n",
      "Trainable params: 120,903\n",
      "Non-trainable params: 33,167,900\n",
      "_________________________________________________________________\n"
     ]
    }
   ],
   "source": [
    "gru_model.summary()"
   ]
  },
  {
   "cell_type": "code",
   "execution_count": null,
   "metadata": {},
   "outputs": [],
   "source": []
  }
 ],
 "metadata": {
  "kernelspec": {
   "display_name": "Python 3",
   "language": "python",
   "name": "python3"
  },
  "language_info": {
   "codemirror_mode": {
    "name": "ipython",
    "version": 3
   },
   "file_extension": ".py",
   "mimetype": "text/x-python",
   "name": "python",
   "nbconvert_exporter": "python",
   "pygments_lexer": "ipython3",
   "version": "3.7.5"
  }
 },
 "nbformat": 4,
 "nbformat_minor": 2
}
