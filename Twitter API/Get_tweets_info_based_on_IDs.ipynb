{
  "metadata": {
    "kernelspec": {
      "name": "python3",
      "display_name": "Python 3"
    },
    "language_info": {
      "name": "python"
    },
    "colab": {
      "provenance": [],
      "collapsed_sections": []
    }
  },
  "nbformat_minor": 5,
  "nbformat": 4,
  "cells": [
    {
      "cell_type": "code",
      "source": [
        "from google.colab import drive\n",
        "drive.mount('/content/drive')"
      ],
      "metadata": {
        "id": "leeganRIFYgb",
        "colab": {
          "base_uri": "https://localhost:8080/"
        },
        "outputId": "8be5465e-5e0f-48f2-e84d-15d85f49965d"
      },
      "id": "leeganRIFYgb",
      "execution_count": null,
      "outputs": [
        {
          "output_type": "stream",
          "name": "stdout",
          "text": [
            "Mounted at /content/drive\n"
          ]
        }
      ]
    },
    {
      "cell_type": "code",
      "source": [
        "!cp /content/drive/My\\ Drive/File.xlsx File.xlsx"
      ],
      "metadata": {
        "id": "3erfFz4FFlby"
      },
      "id": "3erfFz4FFlby",
      "execution_count": null,
      "outputs": []
    },
    {
      "cell_type": "code",
      "source": [
        "from __future__ import print_function\n",
        "import getopt\n",
        "import logging\n",
        "import os\n",
        "import sys\n",
        "import pandas as pd\n",
        "import time\n",
        "import json\n",
        "import xlwt\n",
        "import time\n",
        "import pandas as pd\n",
        "\n",
        "# global logger level is configured in main()\n",
        "Logger = None"
      ],
      "metadata": {
        "trusted": true,
        "pycharm": {
          "name": "#%%\n",
          "is_executing": true
        },
        "id": "2a3fdf17-2c3f-47a0-b775-3693174cd78b"
      },
      "execution_count": null,
      "outputs": [],
      "id": "2a3fdf17-2c3f-47a0-b775-3693174cd78b"
    },
    {
      "cell_type": "code",
      "source": [
        "pip install python-twitter"
      ],
      "metadata": {
        "id": "Ap1oK9xFkhFh"
      },
      "id": "Ap1oK9xFkhFh",
      "execution_count": 2,
      "outputs": []
    },
    {
      "cell_type": "code",
      "source": [
        "import twitter\n",
        "import os\n",
        "import time\n",
        "import pandas as pd\n",
        "import json\n",
        "\n",
        "#from __future__ import print_function\n",
        "#import getopt\n",
        "#import logging\n",
        "#import os\n",
        "#import sys\n",
        "#import xlwt"
      ],
      "metadata": {
        "id": "UeryyoNbg7sB"
      },
      "id": "UeryyoNbg7sB",
      "execution_count": null,
      "outputs": []
    },
    {
      "cell_type": "code",
      "source": [
        "CONSUMER_KEY = ' '\n",
        "CONSUMER_SECRET = ' '\n",
        "OAUTH_TOKEN = ' '\n",
        "OAUTH_TOKEN_SECRET = ' '\n",
        "\n",
        "api_crawler = twitter.Api(consumer_key=CONSUMER_KEY, \n",
        "                          consumer_secret=CONSUMER_SECRET,\n",
        "                          access_token_key=OAUTH_TOKEN,\n",
        "                          access_token_secret=OAUTH_TOKEN_SECRET\n",
        "                         )"
      ],
      "metadata": {
        "id": "dp_h714BhYUb"
      },
      "id": "dp_h714BhYUb",
      "execution_count": null,
      "outputs": []
    },
    {
      "cell_type": "code",
      "source": [
        "df = pd.read_excel(\"File.xlsx\")"
      ],
      "metadata": {
        "id": "-He_IDzHhZIw"
      },
      "id": "-He_IDzHhZIw",
      "execution_count": null,
      "outputs": []
    },
    {
      "cell_type": "code",
      "source": [
        "bulk_size = 100\n",
        "pos = 0\n",
        "data = []\n",
        "while pos < df.shape[0]:\n",
        "  try:\n",
        "    bulk_ids = df.iloc[pos:(pos+bulk_size)][\"id\"].tolist()\n",
        "    pos += bulk_size\n",
        "    data.append(api_crawler.GetStatuses(bulk_ids))\n",
        "  except:\n",
        "    time.sleep(800)"
      ],
      "metadata": {
        "id": "gmIXBvwThbqS"
      },
      "id": "gmIXBvwThbqS",
      "execution_count": null,
      "outputs": []
    },
    {
      "cell_type": "code",
      "source": [
        "data[0][0].__dict__"
      ],
      "metadata": {
        "id": "R-1YzwYAhl9Q"
      },
      "id": "R-1YzwYAhl9Q",
      "execution_count": 1,
      "outputs": []
    },
    {
      "cell_type": "code",
      "source": [
        "dataset = []\n",
        "for bulk_list in data:\n",
        "    for datum in bulk_list:\n",
        "        dataset.append(datum.__dict__)"
      ],
      "metadata": {
        "id": "sTdbLR-Rhuoh"
      },
      "id": "sTdbLR-Rhuoh",
      "execution_count": null,
      "outputs": []
    },
    {
      "cell_type": "code",
      "source": [
        "df_tweet_info = pandas.DataFrame(dataset)"
      ],
      "metadata": {
        "id": "gwGHS_oJhvUJ"
      },
      "id": "gwGHS_oJhvUJ",
      "execution_count": null,
      "outputs": []
    },
    {
      "cell_type": "code",
      "source": [
        "df_tweet_info.to_excel('/content/drive/My Drive/Result.xlsx', encoding='utf-8')"
      ],
      "metadata": {
        "id": "3sPfKMRdlzTK"
      },
      "id": "3sPfKMRdlzTK",
      "execution_count": null,
      "outputs": []
    }
  ]
}