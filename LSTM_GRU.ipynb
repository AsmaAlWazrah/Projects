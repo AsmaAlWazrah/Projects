{
 "cells": [
  {
   "cell_type": "code",
   "execution_count": 2,
   "metadata": {},
   "outputs": [],
   "source": [
    "# -*- coding: utf-8 -*-\n",
    "#-------------------------------------------------------------------------------\n",
    "\n",
    "import itertools\n",
    "import pandas as pd\n",
    "import numpy as np\n",
    "%matplotlib inline\n",
    "import matplotlib.pyplot as plt\n",
    "\n",
    "import re\n",
    "import sys\n",
    "import codecs\n",
    "import nltk\n",
    "from nltk.tokenize import word_tokenize\n",
    "from nltk.corpus import stopwords\n",
    "from nltk.stem.isri import ISRIStemmer\n",
    "#from nltk.stem.arlstem import ARLSTem\n",
    "import gensim\n",
    "from gensim.models.word2vec import Word2Vec\n",
    "\n",
    "\n",
    "import keras\n",
    "from keras import layers\n",
    "from keras import optimizers\n",
    "\n",
    "from keras.preprocessing.sequence import pad_sequences\n",
    "from keras.preprocessing.text import Tokenizer\n",
    "from keras.preprocessing.text import text_to_word_sequence\n",
    "from keras.utils import to_categorical\n",
    "\n",
    "import keras_metrics\n",
    "\n",
    "from sklearn.model_selection import train_test_split"
   ]
  },
  {
   "cell_type": "code",
   "execution_count": 112,
   "metadata": {
    "scrolled": true
   },
   "outputs": [
    {
     "name": "stdout",
     "output_type": "stream",
     "text": [
      "(56674, 2)\n"
     ]
    },
    {
     "data": {
      "text/html": [
       "<div>\n",
       "<style scoped>\n",
       "    .dataframe tbody tr th:only-of-type {\n",
       "        vertical-align: middle;\n",
       "    }\n",
       "\n",
       "    .dataframe tbody tr th {\n",
       "        vertical-align: top;\n",
       "    }\n",
       "\n",
       "    .dataframe thead th {\n",
       "        text-align: right;\n",
       "    }\n",
       "</style>\n",
       "<table border=\"1\" class=\"dataframe\">\n",
       "  <thead>\n",
       "    <tr style=\"text-align: right;\">\n",
       "      <th></th>\n",
       "      <th>Tweet</th>\n",
       "      <th>Polarity</th>\n",
       "    </tr>\n",
       "  </thead>\n",
       "  <tbody>\n",
       "    <tr>\n",
       "      <th>0</th>\n",
       "      <td>تستاه ل ي عدي م الاحس اس تعليق_الدراسه_في_القصيم</td>\n",
       "      <td>neut</td>\n",
       "    </tr>\n",
       "    <tr>\n",
       "      <th>1</th>\n",
       "      <td>اللهم كن مع اهلنا في غزه وفرج كربتهم برحمتك ي...</td>\n",
       "      <td>pos</td>\n",
       "    </tr>\n",
       "    <tr>\n",
       "      <th>2</th>\n",
       "      <td>الحكومه العراقيه تطلق اكثر من مئه ارهابي سعود...</td>\n",
       "      <td>neg</td>\n",
       "    </tr>\n",
       "    <tr>\n",
       "      <th>3</th>\n",
       "      <td>لك في سيره المجد قصه تقول ربي خالقك للبطولات ...</td>\n",
       "      <td>pos</td>\n",
       "    </tr>\n",
       "    <tr>\n",
       "      <th>4</th>\n",
       "      <td>سالتكم سؤال عن كيفيه اضافه رقم صديقي في خدمه ...</td>\n",
       "      <td>neg</td>\n",
       "    </tr>\n",
       "  </tbody>\n",
       "</table>\n",
       "</div>"
      ],
      "text/plain": [
       "                                               Tweet Polarity\n",
       "0   تستاه ل ي عدي م الاحس اس تعليق_الدراسه_في_القصيم     neut\n",
       "1   اللهم كن مع اهلنا في غزه وفرج كربتهم برحمتك ي...      pos\n",
       "2   الحكومه العراقيه تطلق اكثر من مئه ارهابي سعود...      neg\n",
       "3   لك في سيره المجد قصه تقول ربي خالقك للبطولات ...      pos\n",
       "4   سالتكم سؤال عن كيفيه اضافه رقم صديقي في خدمه ...      neg"
      ]
     },
     "execution_count": 112,
     "metadata": {},
     "output_type": "execute_result"
    }
   ],
   "source": [
    "data = pd.read_csv('All_Dataset - Copy.csv', encoding='utf-8')\n",
    "data = data.sample(frac=1).reset_index(drop=True)\n",
    "print(data.shape)\n",
    "data.head()"
   ]
  },
  {
   "cell_type": "code",
   "execution_count": 113,
   "metadata": {},
   "outputs": [
    {
     "data": {
      "text/plain": [
       "<matplotlib.axes._subplots.AxesSubplot at 0x229cfdb66c8>"
      ]
     },
     "execution_count": 113,
     "metadata": {},
     "output_type": "execute_result"
    },
    {
     "data": {
      "image/png": "[encoded data removed]",
      "text/plain": [
       "<Figure size 432x288 with 1 Axes>"
      ]
     },
     "metadata": {},
     "output_type": "display_data"
    }
   ],
   "source": [
    "data['Polarity'].value_counts().sort_index().plot.bar()"
   ]
  },
  {
   "cell_type": "code",
   "execution_count": 114,
   "metadata": {},
   "outputs": [
    {
     "data": {
      "text/plain": [
       "<matplotlib.axes._subplots.AxesSubplot at 0x229da5cfc88>"
      ]
     },
     "execution_count": 114,
     "metadata": {},
     "output_type": "execute_result"
    },
    {
     "data": {
      "image/png": "[encoded data removed]",
      "text/plain": [
       "<Figure size 432x288 with 1 Axes>"
      ]
     },
     "metadata": {},
     "output_type": "display_data"
    }
   ],
   "source": [
    "data['Tweet'].str.len().plot.hist()"
   ]
  },
  {
   "cell_type": "code",
   "execution_count": 115,
   "metadata": {
    "scrolled": false
   },
   "outputs": [
    {
     "data": {
      "text/html": [
       "<div>\n",
       "<style scoped>\n",
       "    .dataframe tbody tr th:only-of-type {\n",
       "        vertical-align: middle;\n",
       "    }\n",
       "\n",
       "    .dataframe tbody tr th {\n",
       "        vertical-align: top;\n",
       "    }\n",
       "\n",
       "    .dataframe thead th {\n",
       "        text-align: right;\n",
       "    }\n",
       "</style>\n",
       "<table border=\"1\" class=\"dataframe\">\n",
       "  <thead>\n",
       "    <tr style=\"text-align: right;\">\n",
       "      <th></th>\n",
       "      <th>Tweet</th>\n",
       "      <th>Polarity</th>\n",
       "      <th>Sentiment</th>\n",
       "    </tr>\n",
       "  </thead>\n",
       "  <tbody>\n",
       "    <tr>\n",
       "      <th>0</th>\n",
       "      <td>تستاه ل ي عدي م الاحس اس تعليق_الدراسه_في_القصيم</td>\n",
       "      <td>neut</td>\n",
       "      <td>2</td>\n",
       "    </tr>\n",
       "    <tr>\n",
       "      <th>1</th>\n",
       "      <td>اللهم كن مع اهلنا في غزه وفرج كربتهم برحمتك ي...</td>\n",
       "      <td>pos</td>\n",
       "      <td>1</td>\n",
       "    </tr>\n",
       "    <tr>\n",
       "      <th>2</th>\n",
       "      <td>الحكومه العراقيه تطلق اكثر من مئه ارهابي سعود...</td>\n",
       "      <td>neg</td>\n",
       "      <td>0</td>\n",
       "    </tr>\n",
       "    <tr>\n",
       "      <th>3</th>\n",
       "      <td>لك في سيره المجد قصه تقول ربي خالقك للبطولات ...</td>\n",
       "      <td>pos</td>\n",
       "      <td>1</td>\n",
       "    </tr>\n",
       "    <tr>\n",
       "      <th>4</th>\n",
       "      <td>سالتكم سؤال عن كيفيه اضافه رقم صديقي في خدمه ...</td>\n",
       "      <td>neg</td>\n",
       "      <td>0</td>\n",
       "    </tr>\n",
       "  </tbody>\n",
       "</table>\n",
       "</div>"
      ],
      "text/plain": [
       "                                               Tweet Polarity  Sentiment\n",
       "0   تستاه ل ي عدي م الاحس اس تعليق_الدراسه_في_القصيم     neut          2\n",
       "1   اللهم كن مع اهلنا في غزه وفرج كربتهم برحمتك ي...      pos          1\n",
       "2   الحكومه العراقيه تطلق اكثر من مئه ارهابي سعود...      neg          0\n",
       "3   لك في سيره المجد قصه تقول ربي خالقك للبطولات ...      pos          1\n",
       "4   سالتكم سؤال عن كيفيه اضافه رقم صديقي في خدمه ...      neg          0"
      ]
     },
     "execution_count": 115,
     "metadata": {},
     "output_type": "execute_result"
    }
   ],
   "source": [
    "def transform(x):\n",
    "    if x == 'neg':\n",
    "        return 0\n",
    "    elif x == 'pos':\n",
    "        return 1\n",
    "    return 2\n",
    "data['Sentiment'] = data['Polarity'].apply(transform)\n",
    "data.head()"
   ]
  },
  {
   "cell_type": "code",
   "execution_count": 116,
   "metadata": {},
   "outputs": [
    {
     "data": {
      "text/html": [
       "<div>\n",
       "<style scoped>\n",
       "    .dataframe tbody tr th:only-of-type {\n",
       "        vertical-align: middle;\n",
       "    }\n",
       "\n",
       "    .dataframe tbody tr th {\n",
       "        vertical-align: top;\n",
       "    }\n",
       "\n",
       "    .dataframe thead th {\n",
       "        text-align: right;\n",
       "    }\n",
       "</style>\n",
       "<table border=\"1\" class=\"dataframe\">\n",
       "  <thead>\n",
       "    <tr style=\"text-align: right;\">\n",
       "      <th></th>\n",
       "      <th>Tweet</th>\n",
       "      <th>Polarity</th>\n",
       "      <th>Sentiment</th>\n",
       "      <th>clean</th>\n",
       "    </tr>\n",
       "  </thead>\n",
       "  <tbody>\n",
       "    <tr>\n",
       "      <th>0</th>\n",
       "      <td>تستاه ل ي عدي م الاحس اس تعليق_الدراسه_في_القصيم</td>\n",
       "      <td>neut</td>\n",
       "      <td>2</td>\n",
       "      <td>[تستاه, عدي, الاحس, اس, تعليق]</td>\n",
       "    </tr>\n",
       "    <tr>\n",
       "      <th>1</th>\n",
       "      <td>اللهم كن مع اهلنا في غزه وفرج كربتهم برحمتك ي...</td>\n",
       "      <td>pos</td>\n",
       "      <td>1</td>\n",
       "      <td>[الهم, اهلنا, غزه, وفرج, كربتهم, برحمتك, يا, ا...</td>\n",
       "    </tr>\n",
       "    <tr>\n",
       "      <th>2</th>\n",
       "      <td>الحكومه العراقيه تطلق اكثر من مئه ارهابي سعود...</td>\n",
       "      <td>neg</td>\n",
       "      <td>0</td>\n",
       "      <td>[الحكومه, العراقيه, تطلق, مءه, ارهابي, سعودي, ...</td>\n",
       "    </tr>\n",
       "    <tr>\n",
       "      <th>3</th>\n",
       "      <td>لك في سيره المجد قصه تقول ربي خالقك للبطولات ...</td>\n",
       "      <td>pos</td>\n",
       "      <td>1</td>\n",
       "      <td>[لك, سيره, المجد, قصه, تقول, ربي, خالقك, لبطول...</td>\n",
       "    </tr>\n",
       "    <tr>\n",
       "      <th>4</th>\n",
       "      <td>سالتكم سؤال عن كيفيه اضافه رقم صديقي في خدمه ...</td>\n",
       "      <td>neg</td>\n",
       "      <td>0</td>\n",
       "      <td>[سالتكم, سوال, كيفيه, اضافه, رقم, صديقي, خدمه,...</td>\n",
       "    </tr>\n",
       "    <tr>\n",
       "      <th>5</th>\n",
       "      <td>ا ف ب المانيا تعلن اعتقال شخص على صله ب هجمات_...</td>\n",
       "      <td>neut</td>\n",
       "      <td>2</td>\n",
       "      <td>[المانيا, تعلن, اعتقال, شخص, صله, هجمات]</td>\n",
       "    </tr>\n",
       "    <tr>\n",
       "      <th>6</th>\n",
       "      <td>اجمل صوره لامين منطقه القصيم بريده_تغرق هاكذا ...</td>\n",
       "      <td>pos</td>\n",
       "      <td>1</td>\n",
       "      <td>[اجمل, صوره, لامين, منطقه, القصيم, بريده, هاكذ...</td>\n",
       "    </tr>\n",
       "    <tr>\n",
       "      <th>7</th>\n",
       "      <td>الاتحاد_الخليج الهلال يفوز ع الخليج ب 7 والات...</td>\n",
       "      <td>neut</td>\n",
       "      <td>2</td>\n",
       "      <td>[الاتحاد, الهلال, يفوز, الخليج, والاتحاد, يتعا...</td>\n",
       "    </tr>\n",
       "    <tr>\n",
       "      <th>8</th>\n",
       "      <td>الفتح للحق يخرج مهزوما بالتعادل مع الهلال المغ...</td>\n",
       "      <td>neg</td>\n",
       "      <td>0</td>\n",
       "      <td>[الفتح, لحق, يخرج, مهزوما, بالتعادل, الهلال, ا...</td>\n",
       "    </tr>\n",
       "    <tr>\n",
       "      <th>9</th>\n",
       "      <td>وننتظر الشنب عزام الدخيل يغرد ب تعليق_الدراسه...</td>\n",
       "      <td>neut</td>\n",
       "      <td>2</td>\n",
       "      <td>[ونتظر, الشنب, عزام, الدخيل, يغرد, تعليق, لبكر...</td>\n",
       "    </tr>\n",
       "  </tbody>\n",
       "</table>\n",
       "</div>"
      ],
      "text/plain": [
       "                                               Tweet Polarity  Sentiment  \\\n",
       "0   تستاه ل ي عدي م الاحس اس تعليق_الدراسه_في_القصيم     neut          2   \n",
       "1   اللهم كن مع اهلنا في غزه وفرج كربتهم برحمتك ي...      pos          1   \n",
       "2   الحكومه العراقيه تطلق اكثر من مئه ارهابي سعود...      neg          0   \n",
       "3   لك في سيره المجد قصه تقول ربي خالقك للبطولات ...      pos          1   \n",
       "4   سالتكم سؤال عن كيفيه اضافه رقم صديقي في خدمه ...      neg          0   \n",
       "5  ا ف ب المانيا تعلن اعتقال شخص على صله ب هجمات_...     neut          2   \n",
       "6  اجمل صوره لامين منطقه القصيم بريده_تغرق هاكذا ...      pos          1   \n",
       "7   الاتحاد_الخليج الهلال يفوز ع الخليج ب 7 والات...     neut          2   \n",
       "8  الفتح للحق يخرج مهزوما بالتعادل مع الهلال المغ...      neg          0   \n",
       "9   وننتظر الشنب عزام الدخيل يغرد ب تعليق_الدراسه...     neut          2   \n",
       "\n",
       "                                               clean  \n",
       "0                     [تستاه, عدي, الاحس, اس, تعليق]  \n",
       "1  [الهم, اهلنا, غزه, وفرج, كربتهم, برحمتك, يا, ا...  \n",
       "2  [الحكومه, العراقيه, تطلق, مءه, ارهابي, سعودي, ...  \n",
       "3  [لك, سيره, المجد, قصه, تقول, ربي, خالقك, لبطول...  \n",
       "4  [سالتكم, سوال, كيفيه, اضافه, رقم, صديقي, خدمه,...  \n",
       "5           [المانيا, تعلن, اعتقال, شخص, صله, هجمات]  \n",
       "6  [اجمل, صوره, لامين, منطقه, القصيم, بريده, هاكذ...  \n",
       "7  [الاتحاد, الهلال, يفوز, الخليج, والاتحاد, يتعا...  \n",
       "8  [الفتح, لحق, يخرج, مهزوما, بالتعادل, الهلال, ا...  \n",
       "9  [ونتظر, الشنب, عزام, الدخيل, يغرد, تعليق, لبكر...  "
      ]
     },
     "execution_count": 116,
     "metadata": {},
     "output_type": "execute_result"
    }
   ],
   "source": [
    "#remove users\n",
    "data['clean'] = data['Tweet'].apply(lambda x: re.sub('(@[A-Za-z]+)', '', x, flags=re.UNICODE))\n",
    "\n",
    "#remove hashtags\n",
    "data['clean'] = data['clean'].apply(lambda x: re.sub('(#[أ-ي]+)|(_[أ-ي]+)', '', x, flags=re.UNICODE))\n",
    "\n",
    "#remove letters, numbers & symbols\n",
    "data['clean'] = data['clean'].apply(lambda x: re.sub('[a-zA-Z0-9@=$:.،%^*\"#~£/&\\n؟?!-_]', '', x, flags=re.UNICODE))\n",
    "\n",
    "#arabic numbers\n",
    "data['clean'] = data['clean'].apply(lambda x: re.sub('[٠١٢٣٤٥٦٧٨٩]', '', x, flags=re.UNICODE))\n",
    "\n",
    "#nltk tokenize\n",
    "data['clean'].apply(word_tokenize)\n",
    "data['clean'] = data['clean'].apply(word_tokenize) \n",
    "\n",
    "#repeated letters\n",
    "data['clean']= data['clean'].apply(lambda x: [''.join(ch for ch, _ in itertools.groupby(y)) for y in x])\n",
    "\n",
    "#normalization\n",
    "def normalizeArabic(text):\n",
    "    text = re.sub(\"[إأٱآا]\", \"ا\", text)\n",
    "    text = re.sub(\"ى\", \"ي\", text)\n",
    "    text = re.sub(\"ؤ\", \"و\", text)\n",
    "    text = re.sub(\"ئ\", \"ء\", text)\n",
    "    text = re.sub(\"ة\", \"ه\", text)\n",
    "    return(text)\n",
    "data['clean']= data['clean'].apply(lambda x: [normalizeArabic(y) for y in x])\n",
    "\n",
    "#remove stopwords\n",
    "def get_stop_words():\n",
    "    path = 'list.txt'\n",
    "    stop_words = []\n",
    "    with codecs.open(path, \"r\", encoding=\"utf-8\", errors=\"ignore\") as myfile:\n",
    "        stop_words = myfile.readlines()\n",
    "    stop_words = [word.strip() for word in stop_words]\n",
    "    return stop_words\n",
    "\n",
    "stop_words = get_stop_words()\n",
    "data['clean']= data['clean'].apply(lambda x: [item for item in x if item not in stop_words])\n",
    "\n",
    "#remove emojis\n",
    "def remove_emoji(text):\n",
    "    emoji_pattern = re.compile(\"[\"\n",
    "                           u\"\\U0001F600-\\U0001F64F\"  # emoticons\n",
    "                           u\"\\U0001F300-\\U0001F5FF\"  # symbols & pictographs\n",
    "                           u\"\\U0001F680-\\U0001F6FF\"  # transport & map symbols\n",
    "                           u\"\\U0001F1E0-\\U0001F1FF\"  # flags (iOS)\n",
    "                           u\"\\U00002702-\\U000027B0\"\n",
    "                           u\"\\U000024C2-\\U0001F251\"\n",
    "                           \"]+\", flags=re.UNICODE)\n",
    "    return emoji_pattern.sub(r'', text)\n",
    "\n",
    "data['clean']= data['clean'].apply(lambda x: [remove_emoji(y) for y in x])\n",
    "\n",
    "data.head(10)"
   ]
  },
  {
   "cell_type": "code",
   "execution_count": 117,
   "metadata": {},
   "outputs": [],
   "source": [
    "CBOW = Word2Vec.load('aravec/tweets_cbow_100')\n",
    "CBOWE = CBOW.wv.get_keras_embedding()"
   ]
  },
  {
   "cell_type": "code",
   "execution_count": 118,
   "metadata": {},
   "outputs": [],
   "source": [
    "# def buildWordVector(tokens, size):\n",
    "#     vec = np.zeros(size).reshape((1, size))\n",
    "#     count = 0.\n",
    "#     for word in tokens:\n",
    "#         try:\n",
    "#             vec += CBOW[word].reshape((1, size))\n",
    "#             count += 1.\n",
    "#         except KeyError: # handling the case where the token is not\n",
    "#             continue\n",
    "#     if count != 0:\n",
    "#         vec /= count\n",
    "#     return vec\n",
    "\n",
    "# X_train = np.concatenate([buildWordVector(x, 100) for x in data['clean']])\n",
    "# X_train.shape"
   ]
  },
  {
   "cell_type": "code",
   "execution_count": 119,
   "metadata": {},
   "outputs": [],
   "source": [
    "y = to_categorical(data['Sentiment'].values)"
   ]
  },
  {
   "cell_type": "code",
   "execution_count": 120,
   "metadata": {},
   "outputs": [
    {
     "data": {
      "text/plain": [
       "array([[    0,     0,     0,     0,     0,     0,     0,     0,     0,\n",
       "            0,     0,     0,     0,     0,     0,     0,     0,     0,\n",
       "        35366, 23980, 35367,  1122,     2],\n",
       "       [    0,     0,     0,     0,     0,     0,     0,     0,     0,\n",
       "            0,     0,     0,     0,    16,  2248,   193,  9821, 18406,\n",
       "         7952,     9,  1420,  8799,    49],\n",
       "       [    0,     0,     0,     0,     0,     0,     0,     0,   333,\n",
       "         4076,  7276, 14922,   782,   389, 35368, 11083, 12770, 35369,\n",
       "        35370, 35371,   950,    64,    13],\n",
       "       [    0,     0,     0,     0,     0,     0,    44,  4536,   915,\n",
       "         1238,   585,   411, 23981,  3530,   619, 11084, 23982, 18407,\n",
       "           60, 35372,  2892,     1,   137],\n",
       "       [    0,     0,     0,     0,     0,     0,     0, 23983,   586,\n",
       "         5810,  3713,   244,  3227,   269,  3227,   651, 23984,  6231,\n",
       "        23985,  9822,  1827, 23986,  2103]])"
      ]
     },
     "execution_count": 120,
     "metadata": {},
     "output_type": "execute_result"
    }
   ],
   "source": [
    "tokenizer = Tokenizer(num_words=len(data['clean']), split=\" \")\n",
    "tokenizer.fit_on_texts(data['clean'].values)\n",
    "\n",
    "X = tokenizer.texts_to_sequences(data['clean'].values)\n",
    "X = pad_sequences(X) # padding our text vector so they all have the same length\n",
    "X[:5]"
   ]
  },
  {
   "cell_type": "code",
   "execution_count": 140,
   "metadata": {},
   "outputs": [
    {
     "data": {
      "text/plain": [
       "(56674, 23)"
      ]
     },
     "execution_count": 140,
     "metadata": {},
     "output_type": "execute_result"
    }
   ],
   "source": [
    "X.shape"
   ]
  },
  {
   "cell_type": "code",
   "execution_count": 141,
   "metadata": {},
   "outputs": [],
   "source": [
    "X_train, X_test, y_train, y_test = train_test_split(X, y, test_size=0.33, random_state=42)"
   ]
  },
  {
   "cell_type": "markdown",
   "metadata": {},
   "source": [
    "## Prepare metrics"
   ]
  },
  {
   "cell_type": "code",
   "execution_count": 142,
   "metadata": {},
   "outputs": [],
   "source": [
    "def plot_data(H, EPOCHS, name='figure.png'):\n",
    "    # plot the losses\n",
    "    plt.style.use(\"ggplot\")\n",
    "    plt.figure()\n",
    "    plt.plot(np.arange(0, EPOCHS), H['accuracy'],\n",
    "        label=\"Accuracy\")\n",
    "    plt.plot(np.arange(0, EPOCHS), H['val_accuracy'],\n",
    "        label=\"Val_Accuracy\")\n",
    "    plt.plot(np.arange(0, EPOCHS), H['loss'],\n",
    "        label=\"Loss\")\n",
    "    plt.plot(np.arange(0, EPOCHS), H['val_loss'],\n",
    "        label=\"Val_Loss\")\n",
    "    plt.xlabel(\"Epoch #\")\n",
    "    plt.ylabel(\"Accuracy & Loss\")\n",
    "    plt.legend(loc=\"upper right\")\n",
    "    plt.show()\n",
    "    if name:\n",
    "        plt.savefig(name)"
   ]
  },
  {
   "cell_type": "code",
   "execution_count": 143,
   "metadata": {},
   "outputs": [],
   "source": [
    "from keras import backend as K\n",
    "\n",
    "\n",
    "# calculate f score\n",
    "def f1(y_true, y_pred):\n",
    "    def recall(y_true, y_pred):\n",
    "        \"\"\"Recall metric.\n",
    "\n",
    "        Only computes a batch-wise average of recall.\n",
    "\n",
    "        Computes the recall, a metric for multi-label classification of\n",
    "        how many relevant items are selected.\n",
    "        \"\"\"\n",
    "        true_positives = K.sum(K.round(K.clip(y_true * y_pred, 0, 1)))\n",
    "        possible_positives = K.sum(K.round(K.clip(y_true, 0, 1)))\n",
    "        recall = true_positives / (possible_positives + K.epsilon())\n",
    "        return recall\n",
    "\n",
    "    def precision(y_true, y_pred):\n",
    "        \"\"\"Precision metric.\n",
    "\n",
    "        Only computes a batch-wise average of precision.\n",
    "\n",
    "        Computes the precision, a metric for multi-label classification of\n",
    "        how many selected items are relevant.\n",
    "        \"\"\"\n",
    "        true_positives = K.sum(K.round(K.clip(y_true * y_pred, 0, 1)))\n",
    "        predicted_positives = K.sum(K.round(K.clip(y_pred, 0, 1)))\n",
    "        precision = true_positives / (predicted_positives + K.epsilon())\n",
    "        return precision\n",
    "    precision = precision(y_true, y_pred)\n",
    "    recall = recall(y_true, y_pred)\n",
    "    return 2*((precision*recall)/(precision+recall+K.epsilon()))"
   ]
  },
  {
   "cell_type": "code",
   "execution_count": 144,
   "metadata": {},
   "outputs": [
    {
     "name": "stdout",
     "output_type": "stream",
     "text": [
      "tracking <tf.Variable 'Variable:0' shape=() dtype=int32, numpy=0> tp\n",
      "tracking <tf.Variable 'Variable:0' shape=() dtype=int32, numpy=0> fp\n",
      "tracking <tf.Variable 'Variable:0' shape=() dtype=int32, numpy=0> tp\n",
      "tracking <tf.Variable 'Variable:0' shape=() dtype=int32, numpy=0> fn\n"
     ]
    }
   ],
   "source": [
    "# metrics\n",
    "metrics = [\n",
    "    'accuracy',\n",
    "    keras_metrics.precision(),\n",
    "    keras_metrics.recall(),\n",
    "    f1,\n",
    "]"
   ]
  },
  {
   "cell_type": "code",
   "execution_count": 145,
   "metadata": {},
   "outputs": [],
   "source": [
    "# hyperparamters\n",
    "BATCH_SIZE = 32\n",
    "LEARNING_RATE = 0.001\n",
    "VALIDATION_SPLIT = 0.3\n",
    "EPOCHS = 20"
   ]
  },
  {
   "cell_type": "markdown",
   "metadata": {},
   "source": [
    "#  Build the models"
   ]
  },
  {
   "cell_type": "code",
   "execution_count": 146,
   "metadata": {},
   "outputs": [],
   "source": [
    "def buildAndRunModel(model, ckpt_path):\n",
    "    # callbacks\n",
    "    checkpoints = keras.callbacks.ModelCheckpoint(ckpt_path, monitor='val_loss', save_best_only=True, save_weights_only=False)\n",
    "    \n",
    "    model.compile(loss='categorical_crossentropy', \n",
    "                   optimizer='adam',\n",
    "                   metrics=metrics,)\n",
    "    H = model.fit(X_train, y_train, \n",
    "               validation_split=VALIDATION_SPLIT, \n",
    "               batch_size=BATCH_SIZE, \n",
    "               epochs=EPOCHS,\n",
    "               callbacks=[checkpoints],)\n",
    "    return H"
   ]
  },
  {
   "cell_type": "code",
   "execution_count": 147,
   "metadata": {},
   "outputs": [],
   "source": [
    "def eval_model(model):\n",
    "    E = model.evaluate(X_test, y_test)\n",
    "    return list(zip(E, model.metrics_names))"
   ]
  },
  {
   "cell_type": "markdown",
   "metadata": {},
   "source": [
    "## LSTM"
   ]
  },
  {
   "cell_type": "code",
   "execution_count": 129,
   "metadata": {
    "scrolled": false
   },
   "outputs": [],
   "source": [
    "lstm_model_input = layers.Input(shape=(X_train.shape[1],))\n",
    "x = CBOWE(lstm_model_input)\n",
    "x = layers.LSTM(100, return_sequences=False)(x)\n",
    "x = layers.Dropout(.5)(x)\n",
    "x = layers.Dense(3, activation='softmax')(x)\n",
    "lstm_model = keras.models.Model(inputs=lstm_model_input, outputs=x)"
   ]
  },
  {
   "cell_type": "code",
   "execution_count": 130,
   "metadata": {
    "scrolled": false
   },
   "outputs": [
    {
     "name": "stdout",
     "output_type": "stream",
     "text": [
      "Train on 26579 samples, validate on 11392 samples\n",
      "Epoch 1/20\n",
      "26579/26579 [==============================] - 20s 770us/step - loss: 0.9236 - accuracy: 0.5582 - precision: 0.5280 - recall: 0.2957 - f1: 0.4881 - val_loss: 0.7850 - val_accuracy: 0.6570 - val_precision: 0.6666 - val_recall: 0.5811 - val_f1: 0.6103\n",
      "Epoch 2/20\n",
      "26579/26579 [==============================] - 19s 708us/step - loss: 0.7394 - accuracy: 0.6809 - precision: 0.7079 - recall: 0.6018 - f1: 0.6536 - val_loss: 0.7488 - val_accuracy: 0.6724 - val_precision: 0.6597 - val_recall: 0.6466 - val_f1: 0.6435\n",
      "Epoch 3/20\n",
      "26579/26579 [==============================] - 21s 809us/step - loss: 0.6456 - accuracy: 0.7298 - precision: 0.7565 - recall: 0.6751 - f1: 0.7142 - val_loss: 0.7358 - val_accuracy: 0.6803 - val_precision: 0.7100 - val_recall: 0.5980 - val_f1: 0.6648\n",
      "Epoch 4/20\n",
      "26579/26579 [==============================] - 21s 794us/step - loss: 0.5730 - accuracy: 0.7633 - precision: 0.7989 - recall: 0.7196 - f1: 0.7550 - val_loss: 0.7474 - val_accuracy: 0.6868 - val_precision: 0.7360 - val_recall: 0.5736 - val_f1: 0.6719\n",
      "Epoch 5/20\n",
      "26579/26579 [==============================] - 22s 812us/step - loss: 0.5114 - accuracy: 0.7933 - precision: 0.8216 - recall: 0.7577 - f1: 0.7884 - val_loss: 0.7646 - val_accuracy: 0.6843 - val_precision: 0.6753 - val_recall: 0.6785 - val_f1: 0.6772\n",
      "Epoch 6/20\n",
      "26579/26579 [==============================] - 22s 830us/step - loss: 0.4568 - accuracy: 0.8158 - precision: 0.8519 - recall: 0.8046 - f1: 0.8118 - val_loss: 0.7857 - val_accuracy: 0.6915 - val_precision: 0.6896 - val_recall: 0.6737 - val_f1: 0.6853\n",
      "Epoch 7/20\n",
      "26579/26579 [==============================] - 22s 839us/step - loss: 0.4138 - accuracy: 0.8364 - precision: 0.8643 - recall: 0.8187 - f1: 0.8339 - val_loss: 0.8435 - val_accuracy: 0.6859 - val_precision: 0.7338 - val_recall: 0.5914 - val_f1: 0.6793\n",
      "Epoch 8/20\n",
      "26579/26579 [==============================] - 22s 836us/step - loss: 0.3629 - accuracy: 0.8571 - precision: 0.8864 - recall: 0.8430 - f1: 0.8558 - val_loss: 0.8924 - val_accuracy: 0.6831 - val_precision: 0.7181 - val_recall: 0.6226 - val_f1: 0.6811\n",
      "Epoch 9/20\n",
      "26579/26579 [==============================] - 22s 830us/step - loss: 0.3239 - accuracy: 0.8748 - precision: 0.8950 - recall: 0.8662 - f1: 0.8740 - val_loss: 0.9319 - val_accuracy: 0.6899 - val_precision: 0.7161 - val_recall: 0.6288 - val_f1: 0.6852\n",
      "Epoch 10/20\n",
      "26579/26579 [==============================] - 22s 841us/step - loss: 0.3039 - accuracy: 0.8839 - precision: 0.8998 - recall: 0.8754 - f1: 0.8822 - val_loss: 0.9900 - val_accuracy: 0.6857 - val_precision: 0.6762 - val_recall: 0.6840 - val_f1: 0.6807\n",
      "Epoch 11/20\n",
      "26579/26579 [==============================] - 22s 845us/step - loss: 0.2801 - accuracy: 0.8938 - precision: 0.9125 - recall: 0.8897 - f1: 0.8931 - val_loss: 1.0378 - val_accuracy: 0.6840 - val_precision: 0.6849 - val_recall: 0.6796 - val_f1: 0.6806\n",
      "Epoch 12/20\n",
      "26579/26579 [==============================] - 22s 846us/step - loss: 0.2557 - accuracy: 0.9029 - precision: 0.9174 - recall: 0.8973 - f1: 0.9021 - val_loss: 1.0719 - val_accuracy: 0.6857 - val_precision: 0.6636 - val_recall: 0.7111 - val_f1: 0.6828\n",
      "Epoch 13/20\n",
      "26579/26579 [==============================] - 23s 853us/step - loss: 0.2435 - accuracy: 0.9067 - precision: 0.9200 - recall: 0.9034 - f1: 0.9061 - val_loss: 1.0878 - val_accuracy: 0.6821 - val_precision: 0.6879 - val_recall: 0.6558 - val_f1: 0.6798\n",
      "Epoch 14/20\n",
      "26579/26579 [==============================] - 22s 843us/step - loss: 0.2198 - accuracy: 0.9178 - precision: 0.9361 - recall: 0.9167 - f1: 0.9181 - val_loss: 1.1237 - val_accuracy: 0.6860 - val_precision: 0.6965 - val_recall: 0.6649 - val_f1: 0.6839\n",
      "Epoch 15/20\n",
      "26579/26579 [==============================] - 23s 868us/step - loss: 0.2184 - accuracy: 0.9203 - precision: 0.9331 - recall: 0.9219 - f1: 0.9192 - val_loss: 1.1472 - val_accuracy: 0.6852 - val_precision: 0.6924 - val_recall: 0.6732 - val_f1: 0.6846\n",
      "Epoch 16/20\n",
      "26579/26579 [==============================] - 23s 875us/step - loss: 0.2142 - accuracy: 0.9213 - precision: 0.9358 - recall: 0.9218 - f1: 0.9209 - val_loss: 1.1569 - val_accuracy: 0.6839 - val_precision: 0.6783 - val_recall: 0.6892 - val_f1: 0.6822\n",
      "Epoch 17/20\n",
      "26579/26579 [==============================] - 22s 843us/step - loss: 0.1880 - accuracy: 0.9313 - precision: 0.9478 - recall: 0.9301 - f1: 0.9315 - val_loss: 1.2345 - val_accuracy: 0.6805 - val_precision: 0.6609 - val_recall: 0.7021 - val_f1: 0.6804\n",
      "Epoch 18/20\n",
      "26579/26579 [==============================] - 22s 840us/step - loss: 0.1821 - accuracy: 0.9323 - precision: 0.9477 - recall: 0.9317 - f1: 0.9328 - val_loss: 1.2565 - val_accuracy: 0.6789 - val_precision: 0.6796 - val_recall: 0.6613 - val_f1: 0.6773\n",
      "Epoch 19/20\n",
      "26579/26579 [==============================] - 23s 858us/step - loss: 0.1794 - accuracy: 0.9348 - precision: 0.9394 - recall: 0.9319 - f1: 0.9355 - val_loss: 1.2889 - val_accuracy: 0.6719 - val_precision: 0.6728 - val_recall: 0.6389 - val_f1: 0.6703\n",
      "Epoch 20/20\n",
      "26579/26579 [==============================] - 23s 848us/step - loss: 0.1790 - accuracy: 0.9346 - precision: 0.9437 - recall: 0.9300 - f1: 0.9346 - val_loss: 1.3060 - val_accuracy: 0.6764 - val_precision: 0.6744 - val_recall: 0.6590 - val_f1: 0.6756\n",
      "Wall time: 7min 29s\n"
     ]
    }
   ],
   "source": [
    "%%time\n",
    "LSTM_H = buildAndRunModel(lstm_model, 'outputs/lstm_cpkt')"
   ]
  },
  {
   "cell_type": "code",
   "execution_count": 131,
   "metadata": {
    "scrolled": true
   },
   "outputs": [
    {
     "name": "stdout",
     "output_type": "stream",
     "text": [
      "18703/18703 [==============================] - 4s 218us/step\n"
     ]
    },
    {
     "data": {
      "text/plain": [
       "[(1.253755851288578, 'loss'),\n",
       " (0.6871089935302734, 'accuracy'),\n",
       " (0.7009150981903076, 'precision'),\n",
       " (0.6828129291534424, 'recall'),\n",
       " (0.6857994198799133, 'f1')]"
      ]
     },
     "execution_count": 131,
     "metadata": {},
     "output_type": "execute_result"
    }
   ],
   "source": [
    "eval_model(lstm_model)"
   ]
  },
  {
   "cell_type": "code",
   "execution_count": 132,
   "metadata": {},
   "outputs": [
    {
     "data": {
      "image/png": "[encoded data removed]",
      "text/plain": [
       "<Figure size 432x288 with 1 Axes>"
      ]
     },
     "metadata": {},
     "output_type": "display_data"
    },
    {
     "data": {
      "text/plain": [
       "<Figure size 432x288 with 0 Axes>"
      ]
     },
     "metadata": {},
     "output_type": "display_data"
    }
   ],
   "source": [
    "plot_data(LSTM_H.history, EPOCHS, 'lstm')"
   ]
  },
  {
   "cell_type": "markdown",
   "metadata": {},
   "source": [
    "## GRU"
   ]
  },
  {
   "cell_type": "code",
   "execution_count": 148,
   "metadata": {},
   "outputs": [],
   "source": [
    "gru_model_input = layers.Input(shape=(X_train.shape[1],))\n",
    "x = CBOWE(gru_model_input)\n",
    "x = layers.GRU(100, return_sequences=False)(x)\n",
    "x = layers.Dropout(.5)(x)\n",
    "x = layers.Dense(3, activation='softmax')(x)\n",
    "gru_model = keras.models.Model(inputs=gru_model_input, outputs=x)"
   ]
  },
  {
   "cell_type": "code",
   "execution_count": 149,
   "metadata": {},
   "outputs": [
    {
     "name": "stdout",
     "output_type": "stream",
     "text": [
      "Train on 26579 samples, validate on 11392 samples\n",
      "Epoch 1/20\n",
      "26579/26579 [==============================] - 23s 848us/step - loss: 1.0105 - accuracy: 0.5174 - precision: 0.4875 - recall: 0.3224 - f1: 0.4590 - val_loss: 0.8170 - val_accuracy: 0.6282 - val_precision: 0.6181 - val_recall: 0.5667 - val_f1: 0.5901\n",
      "Epoch 2/20\n",
      "26579/26579 [==============================] - 20s 766us/step - loss: 0.7714 - accuracy: 0.6653 - precision: 0.6827 - recall: 0.5803 - f1: 0.6390 - val_loss: 0.7489 - val_accuracy: 0.6740 - val_precision: 0.6936 - val_recall: 0.6005 - val_f1: 0.6471\n",
      "Epoch 3/20\n",
      "26579/26579 [==============================] - 20s 762us/step - loss: 0.6690 - accuracy: 0.7180 - precision: 0.7450 - recall: 0.6506 - f1: 0.7030 - val_loss: 0.7502 - val_accuracy: 0.6771 - val_precision: 0.6670 - val_recall: 0.6648 - val_f1: 0.6611\n",
      "Epoch 4/20\n",
      "26579/26579 [==============================] - 21s 809us/step - loss: 0.5928 - accuracy: 0.7577 - precision: 0.7793 - recall: 0.7171 - f1: 0.7497 - val_loss: 0.7522 - val_accuracy: 0.6797 - val_precision: 0.7216 - val_recall: 0.5829 - val_f1: 0.6708\n",
      "Epoch 5/20\n",
      "26579/26579 [==============================] - 25s 946us/step - loss: 0.5143 - accuracy: 0.7941 - precision: 0.8141 - recall: 0.7572 - f1: 0.7889 - val_loss: 0.7946 - val_accuracy: 0.6748 - val_precision: 0.7327 - val_recall: 0.5573 - val_f1: 0.6668\n",
      "Epoch 6/20\n",
      "26579/26579 [==============================] - 25s 927us/step - loss: 0.4592 - accuracy: 0.8194 - precision: 0.8452 - recall: 0.7929 - f1: 0.8166 - val_loss: 0.8310 - val_accuracy: 0.6829 - val_precision: 0.6705 - val_recall: 0.6823 - val_f1: 0.6773\n",
      "Epoch 7/20\n",
      "26579/26579 [==============================] - 28s 1ms/step - loss: 0.4015 - accuracy: 0.8430 - precision: 0.8632 - recall: 0.8292 - f1: 0.8409 - val_loss: 0.8701 - val_accuracy: 0.6770 - val_precision: 0.6907 - val_recall: 0.6386 - val_f1: 0.6714\n",
      "Epoch 8/20\n",
      "26579/26579 [==============================] - 25s 959us/step - loss: 0.3602 - accuracy: 0.8626 - precision: 0.8779 - recall: 0.8451 - f1: 0.8606 - val_loss: 0.9241 - val_accuracy: 0.6775 - val_precision: 0.6858 - val_recall: 0.6534 - val_f1: 0.6747\n",
      "Epoch 9/20\n",
      "26579/26579 [==============================] - 23s 860us/step - loss: 0.3330 - accuracy: 0.8754 - precision: 0.9010 - recall: 0.8694 - f1: 0.8737 - val_loss: 0.9635 - val_accuracy: 0.6751 - val_precision: 0.6880 - val_recall: 0.6496 - val_f1: 0.6710\n",
      "Epoch 10/20\n",
      "26579/26579 [==============================] - 22s 837us/step - loss: 0.2983 - accuracy: 0.8868 - precision: 0.9047 - recall: 0.8772 - f1: 0.8858 - val_loss: 1.0262 - val_accuracy: 0.6742 - val_precision: 0.6791 - val_recall: 0.6512 - val_f1: 0.6713\n",
      "Epoch 11/20\n",
      "26579/26579 [==============================] - 23s 855us/step - loss: 0.2694 - accuracy: 0.8994 - precision: 0.9161 - recall: 0.8953 - f1: 0.8997 - val_loss: 1.0858 - val_accuracy: 0.6707 - val_precision: 0.6602 - val_recall: 0.6642 - val_f1: 0.6693\n",
      "Epoch 12/20\n",
      "26579/26579 [==============================] - 23s 864us/step - loss: 0.2481 - accuracy: 0.9080 - precision: 0.9217 - recall: 0.9005 - f1: 0.9084 - val_loss: 1.1575 - val_accuracy: 0.6735 - val_precision: 0.6753 - val_recall: 0.6615 - val_f1: 0.6707\n",
      "Epoch 13/20\n",
      "26579/26579 [==============================] - 22s 842us/step - loss: 0.2299 - accuracy: 0.9167 - precision: 0.9340 - recall: 0.9152 - f1: 0.9161 - val_loss: 1.2086 - val_accuracy: 0.6688 - val_precision: 0.6794 - val_recall: 0.6536 - val_f1: 0.6667\n",
      "Epoch 14/20\n",
      "26579/26579 [==============================] - 22s 844us/step - loss: 0.2244 - accuracy: 0.9185 - precision: 0.9317 - recall: 0.9193 - f1: 0.9181 - val_loss: 1.2134 - val_accuracy: 0.6676 - val_precision: 0.6730 - val_recall: 0.6426 - val_f1: 0.6663\n",
      "Epoch 15/20\n",
      "26579/26579 [==============================] - 24s 888us/step - loss: 0.2182 - accuracy: 0.9194 - precision: 0.9377 - recall: 0.9262 - f1: 0.9194 - val_loss: 1.2120 - val_accuracy: 0.6637 - val_precision: 0.6781 - val_recall: 0.6302 - val_f1: 0.6626\n",
      "Epoch 16/20\n",
      "26579/26579 [==============================] - 23s 868us/step - loss: 0.1913 - accuracy: 0.9301 - precision: 0.9438 - recall: 0.9324 - f1: 0.9308 - val_loss: 1.3184 - val_accuracy: 0.6697 - val_precision: 0.6754 - val_recall: 0.6604 - val_f1: 0.6690\n",
      "Epoch 17/20\n",
      "26579/26579 [==============================] - 22s 844us/step - loss: 0.1893 - accuracy: 0.9319 - precision: 0.9499 - recall: 0.9353 - f1: 0.9314 - val_loss: 1.3669 - val_accuracy: 0.6702 - val_precision: 0.6574 - val_recall: 0.6806 - val_f1: 0.6687\n",
      "Epoch 18/20\n",
      "26579/26579 [==============================] - 22s 843us/step - loss: 0.1885 - accuracy: 0.9323 - precision: 0.9448 - recall: 0.9278 - f1: 0.9323 - val_loss: 1.3180 - val_accuracy: 0.6697 - val_precision: 0.6562 - val_recall: 0.6793 - val_f1: 0.6683\n",
      "Epoch 19/20\n",
      "26579/26579 [==============================] - 24s 901us/step - loss: 0.1635 - accuracy: 0.9401 - precision: 0.9485 - recall: 0.9380 - f1: 0.9405 - val_loss: 1.4038 - val_accuracy: 0.6659 - val_precision: 0.6663 - val_recall: 0.6486 - val_f1: 0.6651\n",
      "Epoch 20/20\n",
      "26579/26579 [==============================] - 25s 931us/step - loss: 0.1790 - accuracy: 0.9372 - precision: 0.9450 - recall: 0.9374 - f1: 0.9371 - val_loss: 1.3979 - val_accuracy: 0.6633 - val_precision: 0.6566 - val_recall: 0.6611 - val_f1: 0.6623\n",
      "Wall time: 7min 49s\n"
     ]
    }
   ],
   "source": [
    "%%time\n",
    "GRU_H = buildAndRunModel(gru_model, 'gru_ckpt')"
   ]
  },
  {
   "cell_type": "code",
   "execution_count": 150,
   "metadata": {},
   "outputs": [
    {
     "name": "stdout",
     "output_type": "stream",
     "text": [
      "18703/18703 [==============================] - 4s 208us/step\n"
     ]
    },
    {
     "data": {
      "text/plain": [
       "[(1.393795346937122, 'loss'),\n",
       " (0.6646527051925659, 'accuracy'),\n",
       " (0.6813520789146423, 'precision'),\n",
       " (0.6747415661811829, 'recall'),\n",
       " (0.6622801423072815, 'f1')]"
      ]
     },
     "execution_count": 150,
     "metadata": {},
     "output_type": "execute_result"
    }
   ],
   "source": [
    "eval_model(gru_model)"
   ]
  },
  {
   "cell_type": "code",
   "execution_count": 156,
   "metadata": {},
   "outputs": [
    {
     "data": {
      "image/png": "[encoded data removed]",
      "text/plain": [
       "<Figure size 432x288 with 1 Axes>"
      ]
     },
     "metadata": {},
     "output_type": "display_data"
    },
    {
     "data": {
      "text/plain": [
       "<Figure size 432x288 with 0 Axes>"
      ]
     },
     "metadata": {},
     "output_type": "display_data"
    }
   ],
   "source": [
    "plot_data(GRU_H.history, EPOCHS, 'gru')"
   ]
  },
  {
   "cell_type": "code",
   "execution_count": 154,
   "metadata": {
    "scrolled": true
   },
   "outputs": [
    {
     "name": "stdout",
     "output_type": "stream",
     "text": [
      "Model: \"model_11\"\n",
      "_________________________________________________________________\n",
      "Layer (type)                 Output Shape              Param #   \n",
      "=================================================================\n",
      "input_11 (InputLayer)        (None, 23)                0         \n",
      "_________________________________________________________________\n",
      "embedding_4 (Embedding)      (None, 23, 100)           33167900  \n",
      "_________________________________________________________________\n",
      "lstm_11 (LSTM)               (None, 100)               80400     \n",
      "_________________________________________________________________\n",
      "dropout_11 (Dropout)         (None, 100)               0         \n",
      "_________________________________________________________________\n",
      "dense_11 (Dense)             (None, 3)                 303       \n",
      "=================================================================\n",
      "Total params: 33,248,603\n",
      "Trainable params: 80,703\n",
      "Non-trainable params: 33,167,900\n",
      "_________________________________________________________________\n"
     ]
    }
   ],
   "source": [
    "lstm_model.summary()"
   ]
  },
  {
   "cell_type": "code",
   "execution_count": 155,
   "metadata": {},
   "outputs": [
    {
     "name": "stdout",
     "output_type": "stream",
     "text": [
      "Model: \"model_14\"\n",
      "_________________________________________________________________\n",
      "Layer (type)                 Output Shape              Param #   \n",
      "=================================================================\n",
      "input_14 (InputLayer)        (None, 23)                0         \n",
      "_________________________________________________________________\n",
      "embedding_4 (Embedding)      (None, 23, 100)           33167900  \n",
      "_________________________________________________________________\n",
      "gru_3 (GRU)                  (None, 100)               60300     \n",
      "_________________________________________________________________\n",
      "dropout_14 (Dropout)         (None, 100)               0         \n",
      "_________________________________________________________________\n",
      "dense_14 (Dense)             (None, 3)                 303       \n",
      "=================================================================\n",
      "Total params: 33,228,503\n",
      "Trainable params: 60,603\n",
      "Non-trainable params: 33,167,900\n",
      "_________________________________________________________________\n"
     ]
    }
   ],
   "source": [
    "gru_model.summary()"
   ]
  },
  {
   "cell_type": "code",
   "execution_count": null,
   "metadata": {},
   "outputs": [],
   "source": []
  }
 ],
 "metadata": {
  "kernelspec": {
   "display_name": "Python 3",
   "language": "python",
   "name": "python3"
  },
  "language_info": {
   "codemirror_mode": {
    "name": "ipython",
    "version": 3
   },
   "file_extension": ".py",
   "mimetype": "text/x-python",
   "name": "python",
   "nbconvert_exporter": "python",
   "pygments_lexer": "ipython3",
   "version": "3.7.5"
  }
 },
 "nbformat": 4,
 "nbformat_minor": 2
}
